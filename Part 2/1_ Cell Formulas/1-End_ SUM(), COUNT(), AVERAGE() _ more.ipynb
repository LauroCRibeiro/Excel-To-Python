{
 "cells": [
  {
   "cell_type": "markdown",
   "metadata": {
    "id": "Beh6bUquc8zo"
   },
   "source": [
    "# Calculating SUM, COUNT, AVERAGE, MIN and MAX\n",
    "---"
   ]
  },
  {
   "cell_type": "markdown",
   "metadata": {
    "id": "LgTBj3de6tL6"
   },
   "source": [
    "## **Excel:**\n",
    "\n",
    "    =SUM(CELL: CELL)\n",
    "    =COUNT(CELL: CELL)\n",
    "    =AVERAGE(CELL: CELL)\n",
    "    =MIN(CELL: CELL)\n",
    "    =MAX(CELL: CELL)\n"
   ]
  },
  {
   "cell_type": "markdown",
   "metadata": {
    "id": "r6Ymw58B6_s7"
   },
   "source": [
    "## **Python:**\n",
    "\n",
    "    df['column'].sum()\n",
    "    df['column'].count()\n",
    "    df['column'].mean()\n",
    "    df['column'].min()\n",
    "    df['column'].max()\n",
    "\n",
    "<br>\n",
    "\n",
    "*You can run a calculation on multiple columns by like this:*\n",
    "\n",
    "    df[['column_1', 'column_2', 'column_3']].sum()\n",
    "\n",
    "<br>\n",
    "\n",
    "*You can also run a calculation for every column by running the calculation directly on the dataframe like so:*\n",
    "\n",
    "    df.mean()\n",
    "\n",
    "<br>\n",
    "\n",
    "*You can also apply a calculation across a row by feeding the `axis='columns'` or `axis=1` argument into the calculation parenthesis as follows:*\n",
    "\n",
    "    df[['column_1', 'column_2', 'column_3']].sum(axis='columns')\n",
    "\n",
    "<br>"
   ]
  },
  {
   "cell_type": "markdown",
   "metadata": {
    "id": "3ojzbP4cU--t"
   },
   "source": [
    "### Load required packages and data\n",
    "---"
   ]
  },
  {
   "cell_type": "code",
   "execution_count": 1,
   "metadata": {
    "executionInfo": {
     "elapsed": 763,
     "status": "ok",
     "timestamp": 1603933336537,
     "user": {
      "displayName": "The Calculated Life",
      "photoUrl": "https://lh3.googleusercontent.com/a-/AOh14GjqV1-SlSvO95qE5rNmizbZiqFWNbohtONKCUZX=s64",
      "userId": "11596660560686950331"
     },
     "user_tz": 360
    },
    "id": "tCxMImfIc7JO"
   },
   "outputs": [],
   "source": [
    "# Import required packages\n",
    "import numpy as np\n",
    "import pandas as pd\n",
    "import matplotlib.pyplot as plt\n",
    "import seaborn as sns"
   ]
  },
  {
   "cell_type": "code",
   "execution_count": 2,
   "metadata": {
    "executionInfo": {
     "elapsed": 2424,
     "status": "ok",
     "timestamp": 1603933342238,
     "user": {
      "displayName": "The Calculated Life",
      "photoUrl": "https://lh3.googleusercontent.com/a-/AOh14GjqV1-SlSvO95qE5rNmizbZiqFWNbohtONKCUZX=s64",
      "userId": "11596660560686950331"
     },
     "user_tz": 360
    },
    "id": "bG0iU5lFr521"
   },
   "outputs": [],
   "source": [
    "# Save Github location paths to a variable\n",
    "failed_bank_path = 'https://github.com/The-Calculated-Life/python_analysis_for_excel/blob/main/data/failed_banks.xlsx?raw=true'\n",
    "bx_ratings_path = 'https://raw.githubusercontent.com/The-Calculated-Life/python_analysis_for_excel/main/data/bx_ratings.csv'\n",
    "\n",
    "# Read excel and CSV files\n",
    "bank_detail = pd.read_excel(failed_bank_path, sheet_name='detail')\n",
    "bx_ratings = pd.read_csv(bx_ratings_path)"
   ]
  },
  {
   "cell_type": "markdown",
   "metadata": {
    "id": "DNODTQ2ihpBC"
   },
   "source": [
    "<br><br>\n",
    "\n",
    "### Perform calculations on columns in `bank_detail` dataframe\n",
    "---"
   ]
  },
  {
   "cell_type": "code",
   "execution_count": 3,
   "metadata": {
    "colab": {
     "base_uri": "https://localhost:8080/",
     "height": 195
    },
    "executionInfo": {
     "elapsed": 372,
     "status": "ok",
     "timestamp": 1603933377362,
     "user": {
      "displayName": "The Calculated Life",
      "photoUrl": "https://lh3.googleusercontent.com/a-/AOh14GjqV1-SlSvO95qE5rNmizbZiqFWNbohtONKCUZX=s64",
      "userId": "11596660560686950331"
     },
     "user_tz": 360
    },
    "id": "iu1wotPCshgt",
    "outputId": "f0b82924-bcc3-452c-9422-5d8afc85e4eb"
   },
   "outputs": [
    {
     "data": {
      "text/html": [
       "<div>\n",
       "<style scoped>\n",
       "    .dataframe tbody tr th:only-of-type {\n",
       "        vertical-align: middle;\n",
       "    }\n",
       "\n",
       "    .dataframe tbody tr th {\n",
       "        vertical-align: top;\n",
       "    }\n",
       "\n",
       "    .dataframe thead th {\n",
       "        text-align: right;\n",
       "    }\n",
       "</style>\n",
       "<table border=\"1\" class=\"dataframe\">\n",
       "  <thead>\n",
       "    <tr style=\"text-align: right;\">\n",
       "      <th></th>\n",
       "      <th>CERT</th>\n",
       "      <th>FIN</th>\n",
       "      <th>CHARTER</th>\n",
       "      <th>ESTIMATED LOSS</th>\n",
       "      <th>ASSETS</th>\n",
       "      <th>DEPOSITS</th>\n",
       "      <th>RESOLUTION</th>\n",
       "    </tr>\n",
       "  </thead>\n",
       "  <tbody>\n",
       "    <tr>\n",
       "      <th>0</th>\n",
       "      <td>14361</td>\n",
       "      <td>10536.0</td>\n",
       "      <td>COMMERCIAL</td>\n",
       "      <td>NaN</td>\n",
       "      <td>152400</td>\n",
       "      <td>139526</td>\n",
       "      <td>FAILURE</td>\n",
       "    </tr>\n",
       "    <tr>\n",
       "      <th>1</th>\n",
       "      <td>18265</td>\n",
       "      <td>10535.0</td>\n",
       "      <td>COMMERCIAL</td>\n",
       "      <td>NaN</td>\n",
       "      <td>100879</td>\n",
       "      <td>95159</td>\n",
       "      <td>FAILURE</td>\n",
       "    </tr>\n",
       "    <tr>\n",
       "      <th>2</th>\n",
       "      <td>21111</td>\n",
       "      <td>10534.0</td>\n",
       "      <td>COMMERCIAL</td>\n",
       "      <td>2491.0</td>\n",
       "      <td>120574</td>\n",
       "      <td>111234</td>\n",
       "      <td>FAILURE</td>\n",
       "    </tr>\n",
       "    <tr>\n",
       "      <th>3</th>\n",
       "      <td>58112</td>\n",
       "      <td>10532.0</td>\n",
       "      <td>COMMERCIAL</td>\n",
       "      <td>4547.0</td>\n",
       "      <td>29726</td>\n",
       "      <td>26473</td>\n",
       "      <td>FAILURE</td>\n",
       "    </tr>\n",
       "    <tr>\n",
       "      <th>4</th>\n",
       "      <td>58317</td>\n",
       "      <td>10533.0</td>\n",
       "      <td>OTHER</td>\n",
       "      <td>2188.0</td>\n",
       "      <td>27119</td>\n",
       "      <td>26151</td>\n",
       "      <td>FAILURE</td>\n",
       "    </tr>\n",
       "  </tbody>\n",
       "</table>\n",
       "</div>"
      ],
      "text/plain": [
       "    CERT      FIN     CHARTER  ESTIMATED LOSS  ASSETS  DEPOSITS RESOLUTION\n",
       "0  14361  10536.0  COMMERCIAL             NaN  152400    139526    FAILURE\n",
       "1  18265  10535.0  COMMERCIAL             NaN  100879     95159    FAILURE\n",
       "2  21111  10534.0  COMMERCIAL          2491.0  120574    111234    FAILURE\n",
       "3  58112  10532.0  COMMERCIAL          4547.0   29726     26473    FAILURE\n",
       "4  58317  10533.0       OTHER          2188.0   27119     26151    FAILURE"
      ]
     },
     "execution_count": 3,
     "metadata": {},
     "output_type": "execute_result"
    }
   ],
   "source": [
    "# View \"bank_detail\" dataframe\n",
    "bank_detail.head()"
   ]
  },
  {
   "cell_type": "code",
   "execution_count": 4,
   "metadata": {
    "colab": {
     "base_uri": "https://localhost:8080/"
    },
    "executionInfo": {
     "elapsed": 452,
     "status": "ok",
     "timestamp": 1603933435431,
     "user": {
      "displayName": "The Calculated Life",
      "photoUrl": "https://lh3.googleusercontent.com/a-/AOh14GjqV1-SlSvO95qE5rNmizbZiqFWNbohtONKCUZX=s64",
      "userId": "11596660560686950331"
     },
     "user_tz": 360
    },
    "id": "OvGhNpLNtMCw",
    "outputId": "c47d3ee7-3175-42f0-f6bc-e15b445473ec"
   },
   "outputs": [
    {
     "data": {
      "text/plain": [
       "73358809.0"
      ]
     },
     "execution_count": 4,
     "metadata": {},
     "output_type": "execute_result"
    }
   ],
   "source": [
    "# What is the total ESTIMATED LOSS across all failed banks?\n",
    "bank_detail['ESTIMATED LOSS'].sum()"
   ]
  },
  {
   "cell_type": "code",
   "execution_count": 5,
   "metadata": {
    "colab": {
     "base_uri": "https://localhost:8080/"
    },
    "executionInfo": {
     "elapsed": 318,
     "status": "ok",
     "timestamp": 1603933459041,
     "user": {
      "displayName": "The Calculated Life",
      "photoUrl": "https://lh3.googleusercontent.com/a-/AOh14GjqV1-SlSvO95qE5rNmizbZiqFWNbohtONKCUZX=s64",
      "userId": "11596660560686950331"
     },
     "user_tz": 360
    },
    "id": "KlueYXr1tPsw",
    "outputId": "1b829ec0-4593-4e9d-f114-d0a9b6cbc540"
   },
   "outputs": [
    {
     "data": {
      "text/plain": [
       "CERT                                                       18231125\n",
       "FIN                                                       5654259.0\n",
       "CHARTER           COMMERCIALCOMMERCIALCOMMERCIALCOMMERCIALOTHERC...\n",
       "ESTIMATED LOSS                                           73358809.0\n",
       "ASSETS                                                   3934131080\n",
       "DEPOSITS                                                 1890987202\n",
       "RESOLUTION        FAILUREFAILUREFAILUREFAILUREFAILUREFAILUREFAIL...\n",
       "dtype: object"
      ]
     },
     "execution_count": 5,
     "metadata": {},
     "output_type": "execute_result"
    }
   ],
   "source": [
    "# What is the total for every column in the bank_detail dataframe?\n",
    "bank_detail.sum()"
   ]
  },
  {
   "cell_type": "code",
   "execution_count": 6,
   "metadata": {
    "colab": {
     "base_uri": "https://localhost:8080/"
    },
    "executionInfo": {
     "elapsed": 455,
     "status": "ok",
     "timestamp": 1603933533633,
     "user": {
      "displayName": "The Calculated Life",
      "photoUrl": "https://lh3.googleusercontent.com/a-/AOh14GjqV1-SlSvO95qE5rNmizbZiqFWNbohtONKCUZX=s64",
      "userId": "11596660560686950331"
     },
     "user_tz": 360
    },
    "id": "Y2vQOzXlyWDt",
    "outputId": "bb8223fa-55bc-44a7-d53a-c941d1ed0126"
   },
   "outputs": [
    {
     "data": {
      "text/plain": [
       "ESTIMATED LOSS    7.335881e+07\n",
       "DEPOSITS          1.890987e+09\n",
       "dtype: float64"
      ]
     },
     "execution_count": 6,
     "metadata": {},
     "output_type": "execute_result"
    }
   ],
   "source": [
    "# What is the total ESTIMATED LOSS and DEPOSITS across all failed banks?\n",
    "bank_detail[['ESTIMATED LOSS', 'DEPOSITS']].sum()"
   ]
  },
  {
   "cell_type": "code",
   "execution_count": 7,
   "metadata": {
    "colab": {
     "base_uri": "https://localhost:8080/"
    },
    "executionInfo": {
     "elapsed": 325,
     "status": "ok",
     "timestamp": 1603933601970,
     "user": {
      "displayName": "The Calculated Life",
      "photoUrl": "https://lh3.googleusercontent.com/a-/AOh14GjqV1-SlSvO95qE5rNmizbZiqFWNbohtONKCUZX=s64",
      "userId": "11596660560686950331"
     },
     "user_tz": 360
    },
    "id": "ZjfcUjxIo_yr",
    "outputId": "b9c9a8c2-73bd-469d-b807-d30238dd83c5"
   },
   "outputs": [
    {
     "data": {
      "text/plain": [
       "0      291926\n",
       "1      196038\n",
       "2      231808\n",
       "3       56199\n",
       "4       53270\n",
       "        ...  \n",
       "574    162625\n",
       "575     52609\n",
       "576     15603\n",
       "577     63713\n",
       "578    173593\n",
       "Length: 579, dtype: int64"
      ]
     },
     "execution_count": 7,
     "metadata": {},
     "output_type": "execute_result"
    }
   ],
   "source": [
    "# What is the total ASSETS and DEPOSITS (ASSETS + DEPOSITS) for each bank in the dataframe?\n",
    "bank_detail[['ASSETS', 'DEPOSITS']].sum(axis='columns')"
   ]
  },
  {
   "cell_type": "code",
   "execution_count": 8,
   "metadata": {
    "colab": {
     "base_uri": "https://localhost:8080/"
    },
    "executionInfo": {
     "elapsed": 302,
     "status": "ok",
     "timestamp": 1603933674534,
     "user": {
      "displayName": "The Calculated Life",
      "photoUrl": "https://lh3.googleusercontent.com/a-/AOh14GjqV1-SlSvO95qE5rNmizbZiqFWNbohtONKCUZX=s64",
      "userId": "11596660560686950331"
     },
     "user_tz": 360
    },
    "id": "Fm-jGUi3t9_d",
    "outputId": "c1df6c6d-9ca3-47e6-d4c8-a9741f437237"
   },
   "outputs": [
    {
     "data": {
      "text/plain": [
       "579"
      ]
     },
     "execution_count": 8,
     "metadata": {},
     "output_type": "execute_result"
    }
   ],
   "source": [
    "# How many failed banks are there in the dataframe?\n",
    "bank_detail['CERT'].count()"
   ]
  },
  {
   "cell_type": "code",
   "execution_count": 9,
   "metadata": {
    "colab": {
     "base_uri": "https://localhost:8080/"
    },
    "executionInfo": {
     "elapsed": 363,
     "status": "ok",
     "timestamp": 1603933703233,
     "user": {
      "displayName": "The Calculated Life",
      "photoUrl": "https://lh3.googleusercontent.com/a-/AOh14GjqV1-SlSvO95qE5rNmizbZiqFWNbohtONKCUZX=s64",
      "userId": "11596660560686950331"
     },
     "user_tz": 360
    },
    "id": "9ssUrRzgvIBv",
    "outputId": "cda55916-9dc8-47a8-d5a0-168dff9b0125"
   },
   "outputs": [
    {
     "data": {
      "text/plain": [
       "130299.83836589698"
      ]
     },
     "execution_count": 9,
     "metadata": {},
     "output_type": "execute_result"
    }
   ],
   "source": [
    "# What was the average ESTIMATED LOSS for failed banks?\n",
    "bank_detail['ESTIMATED LOSS'].mean()"
   ]
  },
  {
   "cell_type": "code",
   "execution_count": 10,
   "metadata": {
    "colab": {
     "base_uri": "https://localhost:8080/"
    },
    "executionInfo": {
     "elapsed": 367,
     "status": "ok",
     "timestamp": 1603933726975,
     "user": {
      "displayName": "The Calculated Life",
      "photoUrl": "https://lh3.googleusercontent.com/a-/AOh14GjqV1-SlSvO95qE5rNmizbZiqFWNbohtONKCUZX=s64",
      "userId": "11596660560686950331"
     },
     "user_tz": 360
    },
    "id": "hy4s8jI3xLay",
    "outputId": "6f343997-4180-43f2-99f2-d1b097abf72a"
   },
   "outputs": [
    {
     "data": {
      "text/plain": [
       "12072214.0"
      ]
     },
     "execution_count": 10,
     "metadata": {},
     "output_type": "execute_result"
    }
   ],
   "source": [
    "# What was the highest ESTIMATED LOSS for failed banks?\n",
    "bank_detail['ESTIMATED LOSS'].max()"
   ]
  },
  {
   "cell_type": "code",
   "execution_count": 11,
   "metadata": {
    "colab": {
     "base_uri": "https://localhost:8080/"
    },
    "executionInfo": {
     "elapsed": 298,
     "status": "ok",
     "timestamp": 1603933783100,
     "user": {
      "displayName": "The Calculated Life",
      "photoUrl": "https://lh3.googleusercontent.com/a-/AOh14GjqV1-SlSvO95qE5rNmizbZiqFWNbohtONKCUZX=s64",
      "userId": "11596660560686950331"
     },
     "user_tz": 360
    },
    "id": "k1F0PxMSxLzd",
    "outputId": "21a27de2-53d3-4e70-fa05-fda8c49a3ab2"
   },
   "outputs": [
    {
     "data": {
      "text/plain": [
       "0.0"
      ]
     },
     "execution_count": 11,
     "metadata": {},
     "output_type": "execute_result"
    }
   ],
   "source": [
    "# What was the lowest ESTIMATED LOSS?\n",
    "bank_detail['ESTIMATED LOSS'].min()"
   ]
  },
  {
   "cell_type": "markdown",
   "metadata": {
    "id": "sHZHREM1vsjE"
   },
   "source": [
    "<br><br>\n",
    "**QUICK CHALLENGE #1:**\n",
    "\n",
    "**Task: Calculate the average book rating in the `bx_ratings` dataframe**\n"
   ]
  },
  {
   "cell_type": "code",
   "execution_count": 12,
   "metadata": {
    "colab": {
     "base_uri": "https://localhost:8080/"
    },
    "executionInfo": {
     "elapsed": 331,
     "status": "ok",
     "timestamp": 1603933855595,
     "user": {
      "displayName": "The Calculated Life",
      "photoUrl": "https://lh3.googleusercontent.com/a-/AOh14GjqV1-SlSvO95qE5rNmizbZiqFWNbohtONKCUZX=s64",
      "userId": "11596660560686950331"
     },
     "user_tz": 360
    },
    "id": "n6Gw9dHEv5zq",
    "outputId": "d1b6fbea-abbb-481d-ebda-b000957d4b70"
   },
   "outputs": [
    {
     "data": {
      "text/plain": [
       "2.8669501991685364"
      ]
     },
     "execution_count": 12,
     "metadata": {},
     "output_type": "execute_result"
    }
   ],
   "source": [
    "# Your code for quick challenge #1 here:\n",
    "bx_ratings['rating'].mean()"
   ]
  },
  {
   "cell_type": "markdown",
   "metadata": {
    "id": "Z6W-p0V3zbKY"
   },
   "source": [
    "<br><br>\n",
    "**QUICK CHALLENGE #2:**\n",
    "\n",
    "There are many other different calculations that can be performed using the approach above.\n",
    "\n",
    "<br>\n",
    "\n",
    "**Task: Test one or more of the following functions on the `rating` column in the `bx_ratings` dataframe:**\n",
    "\n",
    "*   median() - Finds the middle values\n",
    "*   mode() - Finds the most repeated value\n",
    "*   std() - Calculates the standard deviation\n",
    "*   var() - Calculates the variance"
   ]
  },
  {
   "cell_type": "code",
   "execution_count": 13,
   "metadata": {
    "colab": {
     "base_uri": "https://localhost:8080/"
    },
    "executionInfo": {
     "elapsed": 318,
     "status": "ok",
     "timestamp": 1603933957463,
     "user": {
      "displayName": "The Calculated Life",
      "photoUrl": "https://lh3.googleusercontent.com/a-/AOh14GjqV1-SlSvO95qE5rNmizbZiqFWNbohtONKCUZX=s64",
      "userId": "11596660560686950331"
     },
     "user_tz": 360
    },
    "id": "Icf4_bZh0mZj",
    "outputId": "329f8bdd-7d85-4a62-f8ca-c267795c47a1"
   },
   "outputs": [
    {
     "data": {
      "text/plain": [
       "0.0"
      ]
     },
     "execution_count": 13,
     "metadata": {},
     "output_type": "execute_result"
    }
   ],
   "source": [
    "# Your code for quick challenge #2 here:\n",
    "bx_ratings['rating'].median()"
   ]
  },
  {
   "cell_type": "code",
   "execution_count": 14,
   "metadata": {
    "colab": {
     "base_uri": "https://localhost:8080/"
    },
    "executionInfo": {
     "elapsed": 302,
     "status": "ok",
     "timestamp": 1603934033283,
     "user": {
      "displayName": "The Calculated Life",
      "photoUrl": "https://lh3.googleusercontent.com/a-/AOh14GjqV1-SlSvO95qE5rNmizbZiqFWNbohtONKCUZX=s64",
      "userId": "11596660560686950331"
     },
     "user_tz": 360
    },
    "id": "9rFQQlMj6mW9",
    "outputId": "86b6f430-9457-4d19-de4d-4c909724d943"
   },
   "outputs": [
    {
     "data": {
      "text/plain": [
       "0    0\n",
       "dtype: int64"
      ]
     },
     "execution_count": 14,
     "metadata": {},
     "output_type": "execute_result"
    }
   ],
   "source": [
    "bx_ratings['rating'].mode()"
   ]
  },
  {
   "cell_type": "code",
   "execution_count": null,
   "metadata": {},
   "outputs": [],
   "source": []
  }
 ],
 "metadata": {
  "colab": {
   "authorship_tag": "ABX9TyNaC3ds90dB3U7IQfE0fQMA",
   "collapsed_sections": [],
   "name": "1-Begin: SUM(), COUNT(), AVERAGE() & more.ipynb",
   "provenance": []
  },
  "kernelspec": {
   "display_name": "Python 3",
   "language": "python",
   "name": "python3"
  },
  "language_info": {
   "codemirror_mode": {
    "name": "ipython",
    "version": 3
   },
   "file_extension": ".py",
   "mimetype": "text/x-python",
   "name": "python",
   "nbconvert_exporter": "python",
   "pygments_lexer": "ipython3",
   "version": "3.8.5"
  }
 },
 "nbformat": 4,
 "nbformat_minor": 1
}
