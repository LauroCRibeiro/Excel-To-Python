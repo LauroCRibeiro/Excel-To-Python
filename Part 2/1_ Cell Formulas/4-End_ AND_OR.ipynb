{
 "cells": [
  {
   "cell_type": "markdown",
   "metadata": {
    "id": "Beh6bUquc8zo"
   },
   "source": [
    "# Handling multiple criteria with AND/OR\n",
    "---"
   ]
  },
  {
   "cell_type": "markdown",
   "metadata": {
    "id": "piawecGyHBji"
   },
   "source": [
    "## **Excel:**\n",
    "\n",
    "    =AND(logical1, [logical2], ...)\n",
    "    =OR(logical1, [logical2], ...)\n",
    "    \n",
    "<br>"
   ]
  },
  {
   "cell_type": "markdown",
   "metadata": {
    "id": "ON7rMlPTHPtf"
   },
   "source": [
    "## **Python:**\n",
    "\n",
    "**AND**\n",
    "\n",
    "    (logical1) & (logical2) & (...)\n",
    "\n",
    "**OR**\n",
    "\n",
    "    (logical1) | (logical2) | (...)\n",
    "\n",
    "<br>"
   ]
  },
  {
   "cell_type": "markdown",
   "metadata": {
    "id": "kigzvJREGgf0"
   },
   "source": [
    "### Load required packages and data\n",
    "---"
   ]
  },
  {
   "cell_type": "code",
   "execution_count": 1,
   "metadata": {
    "executionInfo": {
     "elapsed": 354,
     "status": "ok",
     "timestamp": 1604166508138,
     "user": {
      "displayName": "The Calculated Life",
      "photoUrl": "https://lh3.googleusercontent.com/a-/AOh14GjqV1-SlSvO95qE5rNmizbZiqFWNbohtONKCUZX=s64",
      "userId": "11596660560686950331"
     },
     "user_tz": 360
    },
    "id": "tCxMImfIc7JO"
   },
   "outputs": [],
   "source": [
    "# Import required packages\n",
    "import numpy as np\n",
    "import pandas as pd\n",
    "import matplotlib.pyplot as plt"
   ]
  },
  {
   "cell_type": "code",
   "execution_count": 2,
   "metadata": {
    "executionInfo": {
     "elapsed": 3176,
     "status": "ok",
     "timestamp": 1604166511546,
     "user": {
      "displayName": "The Calculated Life",
      "photoUrl": "https://lh3.googleusercontent.com/a-/AOh14GjqV1-SlSvO95qE5rNmizbZiqFWNbohtONKCUZX=s64",
      "userId": "11596660560686950331"
     },
     "user_tz": 360
    },
    "id": "CJo1wr3BGkPH"
   },
   "outputs": [],
   "source": [
    "# Save Github location paths to a variable\n",
    "failed_bank_path = 'https://github.com/The-Calculated-Life/python_analysis_for_excel/blob/main/data/failed_banks.xlsx?raw=true'\n",
    "bx_books_path = 'https://raw.githubusercontent.com/The-Calculated-Life/python_analysis_for_excel/main/data/bx_books.csv'\n",
    "\n",
    "# Read excel and CSV files\n",
    "bank_detail = pd.read_excel(failed_bank_path, sheet_name='detail')\n",
    "bank_list = pd.read_excel(failed_bank_path, sheet_name='banks')\n",
    "bx_books = pd.read_csv(bx_books_path)"
   ]
  },
  {
   "cell_type": "markdown",
   "metadata": {
    "id": "8v9n1CD1fgBU"
   },
   "source": [
    "<br>\n",
    "\n",
    "### Examples: AND (&)\n",
    "---"
   ]
  },
  {
   "cell_type": "code",
   "execution_count": 3,
   "metadata": {
    "colab": {
     "base_uri": "https://localhost:8080/"
    },
    "executionInfo": {
     "elapsed": 1396,
     "status": "ok",
     "timestamp": 1604166511548,
     "user": {
      "displayName": "The Calculated Life",
      "photoUrl": "https://lh3.googleusercontent.com/a-/AOh14GjqV1-SlSvO95qE5rNmizbZiqFWNbohtONKCUZX=s64",
      "userId": "11596660560686950331"
     },
     "user_tz": 360
    },
    "id": "52AiblDfGyMl",
    "outputId": "75593444-93e4-4c10-d246-e84990eb695a"
   },
   "outputs": [
    {
     "data": {
      "text/plain": [
       "0      False\n",
       "1      False\n",
       "2      False\n",
       "3      False\n",
       "4      False\n",
       "       ...  \n",
       "574    False\n",
       "575    False\n",
       "576    False\n",
       "577    False\n",
       "578    False\n",
       "Name: ESTIMATED LOSS, Length: 579, dtype: bool"
      ]
     },
     "execution_count": 3,
     "metadata": {
      "tags": []
     },
     "output_type": "execute_result"
    }
   ],
   "source": [
    "# How many failed banks had an estimated loss over $50,000 with less than $150,000 in assets? (logical1)\n",
    "bank_detail['ESTIMATED LOSS'] > 50000"
   ]
  },
  {
   "cell_type": "markdown",
   "metadata": {
    "id": "0KlQ9up9omrS"
   },
   "source": [
    "<br>"
   ]
  },
  {
   "cell_type": "code",
   "execution_count": 4,
   "metadata": {
    "colab": {
     "base_uri": "https://localhost:8080/"
    },
    "executionInfo": {
     "elapsed": 909,
     "status": "ok",
     "timestamp": 1604166511548,
     "user": {
      "displayName": "The Calculated Life",
      "photoUrl": "https://lh3.googleusercontent.com/a-/AOh14GjqV1-SlSvO95qE5rNmizbZiqFWNbohtONKCUZX=s64",
      "userId": "11596660560686950331"
     },
     "user_tz": 360
    },
    "id": "4CKvRFnEJEs0",
    "outputId": "88fafdea-2a29-4487-cbfd-8afb2c462ff9"
   },
   "outputs": [
    {
     "data": {
      "text/plain": [
       "0      False\n",
       "1       True\n",
       "2       True\n",
       "3       True\n",
       "4       True\n",
       "       ...  \n",
       "574     True\n",
       "575     True\n",
       "576     True\n",
       "577     True\n",
       "578     True\n",
       "Name: ASSETS, Length: 579, dtype: bool"
      ]
     },
     "execution_count": 4,
     "metadata": {
      "tags": []
     },
     "output_type": "execute_result"
    }
   ],
   "source": [
    "# How many failed banks had an estimated loss over $50,000 with less than $150,000 in assets? (logical2)\n",
    "bank_detail['ASSETS'] < 150000"
   ]
  },
  {
   "cell_type": "markdown",
   "metadata": {
    "id": "6gq8kZB-ooLq"
   },
   "source": [
    "<br>"
   ]
  },
  {
   "cell_type": "code",
   "execution_count": 5,
   "metadata": {
    "colab": {
     "base_uri": "https://localhost:8080/"
    },
    "executionInfo": {
     "elapsed": 501,
     "status": "ok",
     "timestamp": 1604166512095,
     "user": {
      "displayName": "The Calculated Life",
      "photoUrl": "https://lh3.googleusercontent.com/a-/AOh14GjqV1-SlSvO95qE5rNmizbZiqFWNbohtONKCUZX=s64",
      "userId": "11596660560686950331"
     },
     "user_tz": 360
    },
    "id": "stR5ue8mJP0-",
    "outputId": "8e9f9241-60a1-4c03-9360-436866b2d5c9"
   },
   "outputs": [
    {
     "data": {
      "text/plain": [
       "0      False\n",
       "1      False\n",
       "2      False\n",
       "3      False\n",
       "4      False\n",
       "       ...  \n",
       "574    False\n",
       "575    False\n",
       "576    False\n",
       "577    False\n",
       "578    False\n",
       "Length: 579, dtype: bool"
      ]
     },
     "execution_count": 5,
     "metadata": {
      "tags": []
     },
     "output_type": "execute_result"
    }
   ],
   "source": [
    "# How many failed banks had an estimated loss over $50,000 with less than $150,000 in assets? (both)\n",
    "(bank_detail['ESTIMATED LOSS'] > 50000) & (bank_detail['ASSETS'] < 150000)"
   ]
  },
  {
   "cell_type": "markdown",
   "metadata": {
    "id": "mNpGT834oor6"
   },
   "source": [
    "<br>"
   ]
  },
  {
   "cell_type": "code",
   "execution_count": 6,
   "metadata": {
    "colab": {
     "base_uri": "https://localhost:8080/",
     "height": 166
    },
    "executionInfo": {
     "elapsed": 519,
     "status": "ok",
     "timestamp": 1604166513435,
     "user": {
      "displayName": "The Calculated Life",
      "photoUrl": "https://lh3.googleusercontent.com/a-/AOh14GjqV1-SlSvO95qE5rNmizbZiqFWNbohtONKCUZX=s64",
      "userId": "11596660560686950331"
     },
     "user_tz": 360
    },
    "id": "yTjNiJYuHjh3",
    "outputId": "9b3ae62e-e3bd-405b-e471-b4411e555700"
   },
   "outputs": [
    {
     "data": {
      "text/html": [
       "<div>\n",
       "<style scoped>\n",
       "    .dataframe tbody tr th:only-of-type {\n",
       "        vertical-align: middle;\n",
       "    }\n",
       "\n",
       "    .dataframe tbody tr th {\n",
       "        vertical-align: top;\n",
       "    }\n",
       "\n",
       "    .dataframe thead th {\n",
       "        text-align: right;\n",
       "    }\n",
       "</style>\n",
       "<table border=\"1\" class=\"dataframe\">\n",
       "  <thead>\n",
       "    <tr style=\"text-align: right;\">\n",
       "      <th></th>\n",
       "      <th>CERT</th>\n",
       "      <th>FIN</th>\n",
       "      <th>CHARTER</th>\n",
       "      <th>ESTIMATED LOSS</th>\n",
       "      <th>ASSETS</th>\n",
       "      <th>DEPOSITS</th>\n",
       "      <th>RESOLUTION</th>\n",
       "    </tr>\n",
       "  </thead>\n",
       "  <tbody>\n",
       "    <tr>\n",
       "      <th>435</th>\n",
       "      <td>34485</td>\n",
       "      <td>10102.0</td>\n",
       "      <td>COMMERCIAL</td>\n",
       "      <td>52679.0</td>\n",
       "      <td>119529</td>\n",
       "      <td>110362</td>\n",
       "      <td>FAILURE</td>\n",
       "    </tr>\n",
       "    <tr>\n",
       "      <th>463</th>\n",
       "      <td>57667</td>\n",
       "      <td>10079.0</td>\n",
       "      <td>COMMERCIAL</td>\n",
       "      <td>52700.0</td>\n",
       "      <td>118601</td>\n",
       "      <td>115478</td>\n",
       "      <td>FAILURE</td>\n",
       "    </tr>\n",
       "    <tr>\n",
       "      <th>533</th>\n",
       "      <td>57654</td>\n",
       "      <td>10016.0</td>\n",
       "      <td>COMMERCIAL</td>\n",
       "      <td>56318.0</td>\n",
       "      <td>112368</td>\n",
       "      <td>98934</td>\n",
       "      <td>FAILURE</td>\n",
       "    </tr>\n",
       "    <tr>\n",
       "      <th>565</th>\n",
       "      <td>8966</td>\n",
       "      <td>4652.0</td>\n",
       "      <td>OTHER</td>\n",
       "      <td>63600.0</td>\n",
       "      <td>72267</td>\n",
       "      <td>60168</td>\n",
       "      <td>FAILURE</td>\n",
       "    </tr>\n",
       "  </tbody>\n",
       "</table>\n",
       "</div>"
      ],
      "text/plain": [
       "      CERT      FIN     CHARTER  ESTIMATED LOSS  ASSETS  DEPOSITS RESOLUTION\n",
       "435  34485  10102.0  COMMERCIAL         52679.0  119529    110362    FAILURE\n",
       "463  57667  10079.0  COMMERCIAL         52700.0  118601    115478    FAILURE\n",
       "533  57654  10016.0  COMMERCIAL         56318.0  112368     98934    FAILURE\n",
       "565   8966   4652.0       OTHER         63600.0   72267     60168    FAILURE"
      ]
     },
     "execution_count": 6,
     "metadata": {
      "tags": []
     },
     "output_type": "execute_result"
    }
   ],
   "source": [
    "# How many failed banks had an estimated loss over $50,000 with less than $150,000 in assets? (final)\n",
    "bank_detail[(bank_detail['ESTIMATED LOSS'] > 50000) & (bank_detail['ASSETS'] < 150000)]"
   ]
  },
  {
   "cell_type": "markdown",
   "metadata": {
    "id": "AHCbWH6sopHS"
   },
   "source": [
    "<br>"
   ]
  },
  {
   "cell_type": "code",
   "execution_count": 7,
   "metadata": {
    "colab": {
     "base_uri": "https://localhost:8080/",
     "height": 166
    },
    "executionInfo": {
     "elapsed": 297,
     "status": "ok",
     "timestamp": 1604166515900,
     "user": {
      "displayName": "The Calculated Life",
      "photoUrl": "https://lh3.googleusercontent.com/a-/AOh14GjqV1-SlSvO95qE5rNmizbZiqFWNbohtONKCUZX=s64",
      "userId": "11596660560686950331"
     },
     "user_tz": 360
    },
    "id": "i0v892ZtHvBt",
    "outputId": "c9734d1b-584d-4e6b-c6b8-0e9d912fd8bd"
   },
   "outputs": [
    {
     "data": {
      "text/html": [
       "<div>\n",
       "<style scoped>\n",
       "    .dataframe tbody tr th:only-of-type {\n",
       "        vertical-align: middle;\n",
       "    }\n",
       "\n",
       "    .dataframe tbody tr th {\n",
       "        vertical-align: top;\n",
       "    }\n",
       "\n",
       "    .dataframe thead th {\n",
       "        text-align: right;\n",
       "    }\n",
       "</style>\n",
       "<table border=\"1\" class=\"dataframe\">\n",
       "  <thead>\n",
       "    <tr style=\"text-align: right;\">\n",
       "      <th></th>\n",
       "      <th>CERT</th>\n",
       "      <th>FIN</th>\n",
       "      <th>CHARTER</th>\n",
       "      <th>ESTIMATED LOSS</th>\n",
       "      <th>ASSETS</th>\n",
       "      <th>DEPOSITS</th>\n",
       "      <th>RESOLUTION</th>\n",
       "    </tr>\n",
       "  </thead>\n",
       "  <tbody>\n",
       "    <tr>\n",
       "      <th>435</th>\n",
       "      <td>34485</td>\n",
       "      <td>10102.0</td>\n",
       "      <td>COMMERCIAL</td>\n",
       "      <td>52679.0</td>\n",
       "      <td>119529</td>\n",
       "      <td>110362</td>\n",
       "      <td>FAILURE</td>\n",
       "    </tr>\n",
       "    <tr>\n",
       "      <th>463</th>\n",
       "      <td>57667</td>\n",
       "      <td>10079.0</td>\n",
       "      <td>COMMERCIAL</td>\n",
       "      <td>52700.0</td>\n",
       "      <td>118601</td>\n",
       "      <td>115478</td>\n",
       "      <td>FAILURE</td>\n",
       "    </tr>\n",
       "    <tr>\n",
       "      <th>533</th>\n",
       "      <td>57654</td>\n",
       "      <td>10016.0</td>\n",
       "      <td>COMMERCIAL</td>\n",
       "      <td>56318.0</td>\n",
       "      <td>112368</td>\n",
       "      <td>98934</td>\n",
       "      <td>FAILURE</td>\n",
       "    </tr>\n",
       "    <tr>\n",
       "      <th>565</th>\n",
       "      <td>8966</td>\n",
       "      <td>4652.0</td>\n",
       "      <td>OTHER</td>\n",
       "      <td>63600.0</td>\n",
       "      <td>72267</td>\n",
       "      <td>60168</td>\n",
       "      <td>FAILURE</td>\n",
       "    </tr>\n",
       "  </tbody>\n",
       "</table>\n",
       "</div>"
      ],
      "text/plain": [
       "      CERT      FIN     CHARTER  ESTIMATED LOSS  ASSETS  DEPOSITS RESOLUTION\n",
       "435  34485  10102.0  COMMERCIAL         52679.0  119529    110362    FAILURE\n",
       "463  57667  10079.0  COMMERCIAL         52700.0  118601    115478    FAILURE\n",
       "533  57654  10016.0  COMMERCIAL         56318.0  112368     98934    FAILURE\n",
       "565   8966   4652.0       OTHER         63600.0   72267     60168    FAILURE"
      ]
     },
     "execution_count": 7,
     "metadata": {
      "tags": []
     },
     "output_type": "execute_result"
    }
   ],
   "source": [
    "# Helpful tip: Saving logicals as variables\n",
    "is_large_loss = bank_detail['ESTIMATED LOSS'] > 50000\n",
    "small_assets = bank_detail['ASSETS'] < 150000\n",
    "\n",
    "bank_detail[is_large_loss & small_assets]"
   ]
  },
  {
   "cell_type": "markdown",
   "metadata": {
    "id": "f-qAWncQKmKb"
   },
   "source": [
    "<br><br>\n",
    "**QUICK CHALLENGE #1:**\n",
    "\n",
    "**Task: Write code which selects the rows for books published in 2002 by the publisher \"Oxford University Press\" in the `bx_books` dataframe**\n"
   ]
  },
  {
   "cell_type": "code",
   "execution_count": 8,
   "metadata": {
    "colab": {
     "base_uri": "https://localhost:8080/",
     "height": 402
    },
    "executionInfo": {
     "elapsed": 308,
     "status": "ok",
     "timestamp": 1604166518115,
     "user": {
      "displayName": "The Calculated Life",
      "photoUrl": "https://lh3.googleusercontent.com/a-/AOh14GjqV1-SlSvO95qE5rNmizbZiqFWNbohtONKCUZX=s64",
      "userId": "11596660560686950331"
     },
     "user_tz": 360
    },
    "id": "5KB8z5nzIOkK",
    "outputId": "72b388a3-c4bc-4721-d8c6-e63ce1bec70c"
   },
   "outputs": [
    {
     "data": {
      "text/html": [
       "<div>\n",
       "<style scoped>\n",
       "    .dataframe tbody tr th:only-of-type {\n",
       "        vertical-align: middle;\n",
       "    }\n",
       "\n",
       "    .dataframe tbody tr th {\n",
       "        vertical-align: top;\n",
       "    }\n",
       "\n",
       "    .dataframe thead th {\n",
       "        text-align: right;\n",
       "    }\n",
       "</style>\n",
       "<table border=\"1\" class=\"dataframe\">\n",
       "  <thead>\n",
       "    <tr style=\"text-align: right;\">\n",
       "      <th></th>\n",
       "      <th>isbn</th>\n",
       "      <th>book_title</th>\n",
       "      <th>book_author</th>\n",
       "      <th>year_of_publication</th>\n",
       "      <th>publisher</th>\n",
       "    </tr>\n",
       "  </thead>\n",
       "  <tbody>\n",
       "    <tr>\n",
       "      <th>0</th>\n",
       "      <td>195153448</td>\n",
       "      <td>Classical Mythology</td>\n",
       "      <td>Mark P. O. Morford</td>\n",
       "      <td>2002</td>\n",
       "      <td>Oxford University Press</td>\n",
       "    </tr>\n",
       "    <tr>\n",
       "      <th>17138</th>\n",
       "      <td>195154991</td>\n",
       "      <td>Your Name Is Renee: Ruth Kapp Hartz's Story As...</td>\n",
       "      <td>Stacy Cretzmeyer</td>\n",
       "      <td>2002</td>\n",
       "      <td>Oxford University Press</td>\n",
       "    </tr>\n",
       "    <tr>\n",
       "      <th>28236</th>\n",
       "      <td>192831879</td>\n",
       "      <td>The Antiquary (Oxford World's Classics)</td>\n",
       "      <td>Walter Scott</td>\n",
       "      <td>2002</td>\n",
       "      <td>Oxford University Press</td>\n",
       "    </tr>\n",
       "    <tr>\n",
       "      <th>30440</th>\n",
       "      <td>965444333</td>\n",
       "      <td>What Went Wrong? Western Impact and Middle Eas...</td>\n",
       "      <td>Bernard Lewis</td>\n",
       "      <td>2002</td>\n",
       "      <td>Oxford University Press</td>\n",
       "    </tr>\n",
       "    <tr>\n",
       "      <th>33704</th>\n",
       "      <td>192834681</td>\n",
       "      <td>Is Heathcliff a Murderer: Great Puzzles in Nin...</td>\n",
       "      <td>John Sutherland</td>\n",
       "      <td>2002</td>\n",
       "      <td>Oxford University Press</td>\n",
       "    </tr>\n",
       "    <tr>\n",
       "      <th>...</th>\n",
       "      <td>...</td>\n",
       "      <td>...</td>\n",
       "      <td>...</td>\n",
       "      <td>...</td>\n",
       "      <td>...</td>\n",
       "    </tr>\n",
       "    <tr>\n",
       "      <th>250176</th>\n",
       "      <td>195152549</td>\n",
       "      <td>Rethinking Literary History: A Dialogue on Theory</td>\n",
       "      <td>Linda Hutcheon</td>\n",
       "      <td>2002</td>\n",
       "      <td>Oxford University Press</td>\n",
       "    </tr>\n",
       "    <tr>\n",
       "      <th>254379</th>\n",
       "      <td>195417313</td>\n",
       "      <td>The Canadian Oxford Dictionary: The Foremost A...</td>\n",
       "      <td>Katherine Barber</td>\n",
       "      <td>2002</td>\n",
       "      <td>Oxford University Press</td>\n",
       "    </tr>\n",
       "    <tr>\n",
       "      <th>261461</th>\n",
       "      <td>198605617</td>\n",
       "      <td>The Oxford Names Companion</td>\n",
       "      <td>Patrick Hanks</td>\n",
       "      <td>2002</td>\n",
       "      <td>Oxford University Press</td>\n",
       "    </tr>\n",
       "    <tr>\n",
       "      <th>261582</th>\n",
       "      <td>195128737</td>\n",
       "      <td>The Essential Desk Reference</td>\n",
       "      <td>Oxford University Press</td>\n",
       "      <td>2002</td>\n",
       "      <td>Oxford University Press</td>\n",
       "    </tr>\n",
       "    <tr>\n",
       "      <th>266115</th>\n",
       "      <td>192802526</td>\n",
       "      <td>Quantum Theory, A Very Short Introduction</td>\n",
       "      <td>John Polkinghorne</td>\n",
       "      <td>2002</td>\n",
       "      <td>Oxford University Press</td>\n",
       "    </tr>\n",
       "  </tbody>\n",
       "</table>\n",
       "<p>66 rows × 5 columns</p>\n",
       "</div>"
      ],
      "text/plain": [
       "             isbn  ...                publisher\n",
       "0       195153448  ...  Oxford University Press\n",
       "17138   195154991  ...  Oxford University Press\n",
       "28236   192831879  ...  Oxford University Press\n",
       "30440   965444333  ...  Oxford University Press\n",
       "33704   192834681  ...  Oxford University Press\n",
       "...           ...  ...                      ...\n",
       "250176  195152549  ...  Oxford University Press\n",
       "254379  195417313  ...  Oxford University Press\n",
       "261461  198605617  ...  Oxford University Press\n",
       "261582  195128737  ...  Oxford University Press\n",
       "266115  192802526  ...  Oxford University Press\n",
       "\n",
       "[66 rows x 5 columns]"
      ]
     },
     "execution_count": 8,
     "metadata": {
      "tags": []
     },
     "output_type": "execute_result"
    }
   ],
   "source": [
    "# Your code for quick challenge #1 here:\n",
    "pub_2002 = bx_books['year_of_publication'] == 2002\n",
    "is_oxford = bx_books['publisher'] == \"Oxford University Press\"\n",
    "\n",
    "bx_books[pub_2002 & is_oxford]"
   ]
  },
  {
   "cell_type": "markdown",
   "metadata": {
    "id": "XGHmGiJkfr3Z"
   },
   "source": [
    "<br><br>\n",
    "\n",
    "### Example: OR (|)\n",
    "---"
   ]
  },
  {
   "cell_type": "code",
   "execution_count": 9,
   "metadata": {
    "colab": {
     "base_uri": "https://localhost:8080/",
     "height": 195
    },
    "executionInfo": {
     "elapsed": 314,
     "status": "ok",
     "timestamp": 1604166554490,
     "user": {
      "displayName": "The Calculated Life",
      "photoUrl": "https://lh3.googleusercontent.com/a-/AOh14GjqV1-SlSvO95qE5rNmizbZiqFWNbohtONKCUZX=s64",
      "userId": "11596660560686950331"
     },
     "user_tz": 360
    },
    "id": "NuxgQzkLO39x",
    "outputId": "c8902bc9-9d65-4fb1-ba7b-0e4048db81e8"
   },
   "outputs": [
    {
     "data": {
      "text/html": [
       "<div>\n",
       "<style scoped>\n",
       "    .dataframe tbody tr th:only-of-type {\n",
       "        vertical-align: middle;\n",
       "    }\n",
       "\n",
       "    .dataframe tbody tr th {\n",
       "        vertical-align: top;\n",
       "    }\n",
       "\n",
       "    .dataframe thead th {\n",
       "        text-align: right;\n",
       "    }\n",
       "</style>\n",
       "<table border=\"1\" class=\"dataframe\">\n",
       "  <thead>\n",
       "    <tr style=\"text-align: right;\">\n",
       "      <th></th>\n",
       "      <th>CERT</th>\n",
       "      <th>Bank Name</th>\n",
       "      <th>City</th>\n",
       "      <th>ST</th>\n",
       "      <th>Acquiring Institution</th>\n",
       "      <th>Closing Date</th>\n",
       "    </tr>\n",
       "  </thead>\n",
       "  <tbody>\n",
       "    <tr>\n",
       "      <th>0</th>\n",
       "      <td>14361</td>\n",
       "      <td>The First State Bank</td>\n",
       "      <td>Barboursville</td>\n",
       "      <td>WV</td>\n",
       "      <td>MVB Bank, Inc.</td>\n",
       "      <td>2020-04-03</td>\n",
       "    </tr>\n",
       "    <tr>\n",
       "      <th>1</th>\n",
       "      <td>18265</td>\n",
       "      <td>Ericson State Bank</td>\n",
       "      <td>Ericson</td>\n",
       "      <td>NE</td>\n",
       "      <td>Farmers and Merchants Bank</td>\n",
       "      <td>2020-02-14</td>\n",
       "    </tr>\n",
       "    <tr>\n",
       "      <th>2</th>\n",
       "      <td>21111</td>\n",
       "      <td>City National Bank of New Jersey</td>\n",
       "      <td>Newark</td>\n",
       "      <td>NJ</td>\n",
       "      <td>Industrial Bank</td>\n",
       "      <td>2019-11-01</td>\n",
       "    </tr>\n",
       "    <tr>\n",
       "      <th>3</th>\n",
       "      <td>58317</td>\n",
       "      <td>Resolute Bank</td>\n",
       "      <td>Maumee</td>\n",
       "      <td>OH</td>\n",
       "      <td>Buckeye State Bank</td>\n",
       "      <td>2019-10-25</td>\n",
       "    </tr>\n",
       "    <tr>\n",
       "      <th>4</th>\n",
       "      <td>58112</td>\n",
       "      <td>Louisa Community Bank</td>\n",
       "      <td>Louisa</td>\n",
       "      <td>KY</td>\n",
       "      <td>Kentucky Farmers Bank Corporation</td>\n",
       "      <td>2019-10-25</td>\n",
       "    </tr>\n",
       "  </tbody>\n",
       "</table>\n",
       "</div>"
      ],
      "text/plain": [
       "    CERT  ... Closing Date\n",
       "0  14361  ...   2020-04-03\n",
       "1  18265  ...   2020-02-14\n",
       "2  21111  ...   2019-11-01\n",
       "3  58317  ...   2019-10-25\n",
       "4  58112  ...   2019-10-25\n",
       "\n",
       "[5 rows x 6 columns]"
      ]
     },
     "execution_count": 9,
     "metadata": {
      "tags": []
     },
     "output_type": "execute_result"
    }
   ],
   "source": [
    "# View \"bank_list\" dataframe\n",
    "bank_list.head()"
   ]
  },
  {
   "cell_type": "markdown",
   "metadata": {
    "id": "pF30H6xkoqwK"
   },
   "source": [
    "<br>"
   ]
  },
  {
   "cell_type": "code",
   "execution_count": 10,
   "metadata": {
    "executionInfo": {
     "elapsed": 317,
     "status": "ok",
     "timestamp": 1604166613300,
     "user": {
      "displayName": "The Calculated Life",
      "photoUrl": "https://lh3.googleusercontent.com/a-/AOh14GjqV1-SlSvO95qE5rNmizbZiqFWNbohtONKCUZX=s64",
      "userId": "11596660560686950331"
     },
     "user_tz": 360
    },
    "id": "fW_lnPbnNL1K"
   },
   "outputs": [],
   "source": [
    "# How many bank failures have there been in the city of Newark OR in the state of Ohio (OH)? (is_newark)\n",
    "is_newark = bank_list['City'] == 'Newark'"
   ]
  },
  {
   "cell_type": "markdown",
   "metadata": {
    "id": "mNUvJkDGorMC"
   },
   "source": [
    "<br>"
   ]
  },
  {
   "cell_type": "code",
   "execution_count": 11,
   "metadata": {
    "executionInfo": {
     "elapsed": 266,
     "status": "ok",
     "timestamp": 1604166646674,
     "user": {
      "displayName": "The Calculated Life",
      "photoUrl": "https://lh3.googleusercontent.com/a-/AOh14GjqV1-SlSvO95qE5rNmizbZiqFWNbohtONKCUZX=s64",
      "userId": "11596660560686950331"
     },
     "user_tz": 360
    },
    "id": "K0OuYRnuONXF"
   },
   "outputs": [],
   "source": [
    "# How many bank failures have there been in the city of Newark OR in the state of Ohio (OH)? (is_ohio)\n",
    "is_ohio = bank_list['ST'] == 'OH'"
   ]
  },
  {
   "cell_type": "markdown",
   "metadata": {
    "id": "BoSBTPn-os8j"
   },
   "source": [
    "<br>"
   ]
  },
  {
   "cell_type": "code",
   "execution_count": 12,
   "metadata": {
    "colab": {
     "base_uri": "https://localhost:8080/",
     "height": 373
    },
    "executionInfo": {
     "elapsed": 324,
     "status": "ok",
     "timestamp": 1604166718829,
     "user": {
      "displayName": "The Calculated Life",
      "photoUrl": "https://lh3.googleusercontent.com/a-/AOh14GjqV1-SlSvO95qE5rNmizbZiqFWNbohtONKCUZX=s64",
      "userId": "11596660560686950331"
     },
     "user_tz": 360
    },
    "id": "Z25ZdNLjOYkY",
    "outputId": "f48cf4c7-23d4-424e-9305-26406830300c"
   },
   "outputs": [
    {
     "data": {
      "text/html": [
       "<div>\n",
       "<style scoped>\n",
       "    .dataframe tbody tr th:only-of-type {\n",
       "        vertical-align: middle;\n",
       "    }\n",
       "\n",
       "    .dataframe tbody tr th {\n",
       "        vertical-align: top;\n",
       "    }\n",
       "\n",
       "    .dataframe thead th {\n",
       "        text-align: right;\n",
       "    }\n",
       "</style>\n",
       "<table border=\"1\" class=\"dataframe\">\n",
       "  <thead>\n",
       "    <tr style=\"text-align: right;\">\n",
       "      <th></th>\n",
       "      <th>CERT</th>\n",
       "      <th>Bank Name</th>\n",
       "      <th>City</th>\n",
       "      <th>ST</th>\n",
       "      <th>Acquiring Institution</th>\n",
       "      <th>Closing Date</th>\n",
       "    </tr>\n",
       "  </thead>\n",
       "  <tbody>\n",
       "    <tr>\n",
       "      <th>2</th>\n",
       "      <td>21111</td>\n",
       "      <td>City National Bank of New Jersey</td>\n",
       "      <td>Newark</td>\n",
       "      <td>NJ</td>\n",
       "      <td>Industrial Bank</td>\n",
       "      <td>2019-11-01</td>\n",
       "    </tr>\n",
       "    <tr>\n",
       "      <th>3</th>\n",
       "      <td>58317</td>\n",
       "      <td>Resolute Bank</td>\n",
       "      <td>Maumee</td>\n",
       "      <td>OH</td>\n",
       "      <td>Buckeye State Bank</td>\n",
       "      <td>2019-10-25</td>\n",
       "    </tr>\n",
       "    <tr>\n",
       "      <th>37</th>\n",
       "      <td>32284</td>\n",
       "      <td>Columbia Savings Bank</td>\n",
       "      <td>Cincinnati</td>\n",
       "      <td>OH</td>\n",
       "      <td>United Fidelity Bank, fsb</td>\n",
       "      <td>2014-05-23</td>\n",
       "    </tr>\n",
       "    <tr>\n",
       "      <th>245</th>\n",
       "      <td>27808</td>\n",
       "      <td>Bramble Savings Bank</td>\n",
       "      <td>Milford</td>\n",
       "      <td>OH</td>\n",
       "      <td>Foundation Bank</td>\n",
       "      <td>2010-09-17</td>\n",
       "    </tr>\n",
       "    <tr>\n",
       "      <th>338</th>\n",
       "      <td>18806</td>\n",
       "      <td>American National Bank</td>\n",
       "      <td>Parma</td>\n",
       "      <td>OH</td>\n",
       "      <td>The National Bank and Trust Company</td>\n",
       "      <td>2010-03-19</td>\n",
       "    </tr>\n",
       "    <tr>\n",
       "      <th>381</th>\n",
       "      <td>29776</td>\n",
       "      <td>AmTrust Bank</td>\n",
       "      <td>Cleveland</td>\n",
       "      <td>OH</td>\n",
       "      <td>New York Community Bank</td>\n",
       "      <td>2009-12-04</td>\n",
       "    </tr>\n",
       "    <tr>\n",
       "      <th>442</th>\n",
       "      <td>32288</td>\n",
       "      <td>Peoples Community Bank</td>\n",
       "      <td>West Chester</td>\n",
       "      <td>OH</td>\n",
       "      <td>First Financial Bank, N.A.</td>\n",
       "      <td>2009-07-31</td>\n",
       "    </tr>\n",
       "    <tr>\n",
       "      <th>534</th>\n",
       "      <td>16848</td>\n",
       "      <td>Miami Valley Bank</td>\n",
       "      <td>Lakeview</td>\n",
       "      <td>OH</td>\n",
       "      <td>The Citizens Banking Company</td>\n",
       "      <td>2007-10-04</td>\n",
       "    </tr>\n",
       "    <tr>\n",
       "      <th>540</th>\n",
       "      <td>31330</td>\n",
       "      <td>Dollar Savings Bank</td>\n",
       "      <td>Newark</td>\n",
       "      <td>NJ</td>\n",
       "      <td>No Acquirer</td>\n",
       "      <td>2004-02-14</td>\n",
       "    </tr>\n",
       "    <tr>\n",
       "      <th>552</th>\n",
       "      <td>8966</td>\n",
       "      <td>Oakwood Deposit Bank Co.</td>\n",
       "      <td>Oakwood</td>\n",
       "      <td>OH</td>\n",
       "      <td>The State Bank &amp; Trust Company</td>\n",
       "      <td>2002-02-01</td>\n",
       "    </tr>\n",
       "    <tr>\n",
       "      <th>557</th>\n",
       "      <td>6629</td>\n",
       "      <td>Malta National Bank</td>\n",
       "      <td>Malta</td>\n",
       "      <td>OH</td>\n",
       "      <td>North Valley Bank</td>\n",
       "      <td>2001-05-03</td>\n",
       "    </tr>\n",
       "  </tbody>\n",
       "</table>\n",
       "</div>"
      ],
      "text/plain": [
       "      CERT  ... Closing Date\n",
       "2    21111  ...   2019-11-01\n",
       "3    58317  ...   2019-10-25\n",
       "37   32284  ...   2014-05-23\n",
       "245  27808  ...   2010-09-17\n",
       "338  18806  ...   2010-03-19\n",
       "381  29776  ...   2009-12-04\n",
       "442  32288  ...   2009-07-31\n",
       "534  16848  ...   2007-10-04\n",
       "540  31330  ...   2004-02-14\n",
       "552   8966  ...   2002-02-01\n",
       "557   6629  ...   2001-05-03\n",
       "\n",
       "[11 rows x 6 columns]"
      ]
     },
     "execution_count": 12,
     "metadata": {
      "tags": []
     },
     "output_type": "execute_result"
    }
   ],
   "source": [
    "# How many bank failures have there been in the city of Newark OR in the state of Ohio (OH) (used both conditions)\n",
    "bank_list[is_newark | is_ohio]"
   ]
  },
  {
   "cell_type": "markdown",
   "metadata": {
    "id": "9ehBnv3XQMoA"
   },
   "source": [
    "<br><br>\n",
    "**QUICK CHALLENGE #2:**\n",
    "\n",
    "**Task: Write code which selects the rows for books published in 2002 OR books which were written by \"Plato\" from the `bx_books` dataframe**"
   ]
  },
  {
   "cell_type": "code",
   "execution_count": 13,
   "metadata": {
    "colab": {
     "base_uri": "https://localhost:8080/"
    },
    "executionInfo": {
     "elapsed": 296,
     "status": "ok",
     "timestamp": 1604166787215,
     "user": {
      "displayName": "The Calculated Life",
      "photoUrl": "https://lh3.googleusercontent.com/a-/AOh14GjqV1-SlSvO95qE5rNmizbZiqFWNbohtONKCUZX=s64",
      "userId": "11596660560686950331"
     },
     "user_tz": 360
    },
    "id": "6ydZQ411QUmL",
    "outputId": "133cfb28-1ad6-4a9c-971e-a34e9d099c26"
   },
   "outputs": [
    {
     "data": {
      "text/plain": [
       "0          True\n",
       "1         False\n",
       "2         False\n",
       "3         False\n",
       "4         False\n",
       "          ...  \n",
       "271374    False\n",
       "271375    False\n",
       "271376    False\n",
       "271377    False\n",
       "271378    False\n",
       "Name: year_of_publication, Length: 271379, dtype: bool"
      ]
     },
     "execution_count": 13,
     "metadata": {
      "tags": []
     },
     "output_type": "execute_result"
    }
   ],
   "source": [
    "# Your code for quick challenge #2 here:\n",
    "pub_2002"
   ]
  },
  {
   "cell_type": "code",
   "execution_count": 14,
   "metadata": {
    "executionInfo": {
     "elapsed": 349,
     "status": "ok",
     "timestamp": 1604166813863,
     "user": {
      "displayName": "The Calculated Life",
      "photoUrl": "https://lh3.googleusercontent.com/a-/AOh14GjqV1-SlSvO95qE5rNmizbZiqFWNbohtONKCUZX=s64",
      "userId": "11596660560686950331"
     },
     "user_tz": 360
    },
    "id": "31FzPwCMyp8Z"
   },
   "outputs": [],
   "source": [
    "is_plato = bx_books['book_author'] == 'Plato'"
   ]
  },
  {
   "cell_type": "code",
   "execution_count": 15,
   "metadata": {
    "colab": {
     "base_uri": "https://localhost:8080/",
     "height": 402
    },
    "executionInfo": {
     "elapsed": 418,
     "status": "ok",
     "timestamp": 1604166835251,
     "user": {
      "displayName": "The Calculated Life",
      "photoUrl": "https://lh3.googleusercontent.com/a-/AOh14GjqV1-SlSvO95qE5rNmizbZiqFWNbohtONKCUZX=s64",
      "userId": "11596660560686950331"
     },
     "user_tz": 360
    },
    "id": "VB4Yhj2kywbn",
    "outputId": "d33ad6ae-2e85-472e-81ea-ba3e9ad02f57"
   },
   "outputs": [
    {
     "data": {
      "text/html": [
       "<div>\n",
       "<style scoped>\n",
       "    .dataframe tbody tr th:only-of-type {\n",
       "        vertical-align: middle;\n",
       "    }\n",
       "\n",
       "    .dataframe tbody tr th {\n",
       "        vertical-align: top;\n",
       "    }\n",
       "\n",
       "    .dataframe thead th {\n",
       "        text-align: right;\n",
       "    }\n",
       "</style>\n",
       "<table border=\"1\" class=\"dataframe\">\n",
       "  <thead>\n",
       "    <tr style=\"text-align: right;\">\n",
       "      <th></th>\n",
       "      <th>isbn</th>\n",
       "      <th>book_title</th>\n",
       "      <th>book_author</th>\n",
       "      <th>year_of_publication</th>\n",
       "      <th>publisher</th>\n",
       "    </tr>\n",
       "  </thead>\n",
       "  <tbody>\n",
       "    <tr>\n",
       "      <th>0</th>\n",
       "      <td>195153448</td>\n",
       "      <td>Classical Mythology</td>\n",
       "      <td>Mark P. O. Morford</td>\n",
       "      <td>2002</td>\n",
       "      <td>Oxford University Press</td>\n",
       "    </tr>\n",
       "    <tr>\n",
       "      <th>9</th>\n",
       "      <td>074322678X</td>\n",
       "      <td>Where You'll Find Me: And Other Stories</td>\n",
       "      <td>Ann Beattie</td>\n",
       "      <td>2002</td>\n",
       "      <td>Scribner</td>\n",
       "    </tr>\n",
       "    <tr>\n",
       "      <th>32</th>\n",
       "      <td>3404921038</td>\n",
       "      <td>Wie Barney es sieht.</td>\n",
       "      <td>Mordecai Richler</td>\n",
       "      <td>2002</td>\n",
       "      <td>LÃ?Â¼bbe</td>\n",
       "    </tr>\n",
       "    <tr>\n",
       "      <th>38</th>\n",
       "      <td>449005615</td>\n",
       "      <td>Seabiscuit: An American Legend</td>\n",
       "      <td>LAURA HILLENBRAND</td>\n",
       "      <td>2002</td>\n",
       "      <td>Ballantine Books</td>\n",
       "    </tr>\n",
       "    <tr>\n",
       "      <th>47</th>\n",
       "      <td>425182908</td>\n",
       "      <td>Isle of Dogs</td>\n",
       "      <td>Patricia Cornwell</td>\n",
       "      <td>2002</td>\n",
       "      <td>Berkley Publishing Group</td>\n",
       "    </tr>\n",
       "    <tr>\n",
       "      <th>...</th>\n",
       "      <td>...</td>\n",
       "      <td>...</td>\n",
       "      <td>...</td>\n",
       "      <td>...</td>\n",
       "      <td>...</td>\n",
       "    </tr>\n",
       "    <tr>\n",
       "      <th>271337</th>\n",
       "      <td>375415343</td>\n",
       "      <td>A Whistling Woman</td>\n",
       "      <td>A.S. BYATT</td>\n",
       "      <td>2002</td>\n",
       "      <td>Knopf</td>\n",
       "    </tr>\n",
       "    <tr>\n",
       "      <th>271338</th>\n",
       "      <td>3404204433</td>\n",
       "      <td>Am Ende des Regenbogens.</td>\n",
       "      <td>Alan Dean Foster</td>\n",
       "      <td>2002</td>\n",
       "      <td>LÃ?Â¼bbe</td>\n",
       "    </tr>\n",
       "    <tr>\n",
       "      <th>271356</th>\n",
       "      <td>971854823</td>\n",
       "      <td>The Female Power Within: A Guide to Living a G...</td>\n",
       "      <td>Marilyn Graman</td>\n",
       "      <td>2002</td>\n",
       "      <td>Life Works Books</td>\n",
       "    </tr>\n",
       "    <tr>\n",
       "      <th>271369</th>\n",
       "      <td>762412119</td>\n",
       "      <td>Burpee Gardening Cyclopedia: A Concise, Up to ...</td>\n",
       "      <td>Allan Armitage</td>\n",
       "      <td>2002</td>\n",
       "      <td>Running Press Book Publishers</td>\n",
       "    </tr>\n",
       "    <tr>\n",
       "      <th>271377</th>\n",
       "      <td>192126040</td>\n",
       "      <td>Republic (World's Classics)</td>\n",
       "      <td>Plato</td>\n",
       "      <td>1996</td>\n",
       "      <td>Oxford University Press</td>\n",
       "    </tr>\n",
       "  </tbody>\n",
       "</table>\n",
       "<p>17665 rows × 5 columns</p>\n",
       "</div>"
      ],
      "text/plain": [
       "              isbn  ...                      publisher\n",
       "0        195153448  ...        Oxford University Press\n",
       "9       074322678X  ...                       Scribner\n",
       "32      3404921038  ...                       LÃ?Â¼bbe\n",
       "38       449005615  ...               Ballantine Books\n",
       "47       425182908  ...       Berkley Publishing Group\n",
       "...            ...  ...                            ...\n",
       "271337   375415343  ...                          Knopf\n",
       "271338  3404204433  ...                       LÃ?Â¼bbe\n",
       "271356   971854823  ...               Life Works Books\n",
       "271369   762412119  ...  Running Press Book Publishers\n",
       "271377   192126040  ...        Oxford University Press\n",
       "\n",
       "[17665 rows x 5 columns]"
      ]
     },
     "execution_count": 15,
     "metadata": {
      "tags": []
     },
     "output_type": "execute_result"
    }
   ],
   "source": [
    "bx_books[pub_2002 | is_plato]"
   ]
  },
  {
   "cell_type": "code",
   "execution_count": null,
   "metadata": {
    "id": "LFTMwXLBy1pd"
   },
   "outputs": [],
   "source": [
    "/"
   ]
  }
 ],
 "metadata": {
  "colab": {
   "authorship_tag": "ABX9TyPNdGljgIAjvFDt8grqawqG",
   "collapsed_sections": [],
   "name": "4-Begin: AND/OR.ipynb",
   "provenance": []
  },
  "kernelspec": {
   "display_name": "Python 3",
   "language": "python",
   "name": "python3"
  },
  "language_info": {
   "codemirror_mode": {
    "name": "ipython",
    "version": 3
   },
   "file_extension": ".py",
   "mimetype": "text/x-python",
   "name": "python",
   "nbconvert_exporter": "python",
   "pygments_lexer": "ipython3",
   "version": "3.8.5"
  }
 },
 "nbformat": 4,
 "nbformat_minor": 1
}
