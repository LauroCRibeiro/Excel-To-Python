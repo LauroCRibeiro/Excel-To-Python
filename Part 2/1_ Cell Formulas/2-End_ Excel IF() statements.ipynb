{
 "cells": [
  {
   "cell_type": "markdown",
   "metadata": {
    "id": "Beh6bUquc8zo"
   },
   "source": [
    "# Excel IF statements in Python\n",
    "---"
   ]
  },
  {
   "cell_type": "markdown",
   "metadata": {
    "id": "HL3aapgX1uUB"
   },
   "source": [
    "\n",
    "## **Excel:**\n",
    "\n",
    "    =IF(logical_test, [value_if_true], [value_if_false])\n"
   ]
  },
  {
   "cell_type": "markdown",
   "metadata": {
    "id": "s9aG9nwy2uob"
   },
   "source": [
    "## **Python:**\n",
    "    \n",
    "    np.where(logical_test, [value_if_true], [value_if_false])"
   ]
  },
  {
   "cell_type": "markdown",
   "metadata": {
    "id": "lwnK7fQzQuTj"
   },
   "source": [
    "<br><br>\n",
    "\n",
    "### Load required packages and data\n",
    "---"
   ]
  },
  {
   "cell_type": "code",
   "execution_count": 1,
   "metadata": {
    "executionInfo": {
     "elapsed": 1341,
     "status": "ok",
     "timestamp": 1604109557276,
     "user": {
      "displayName": "The Calculated Life",
      "photoUrl": "https://lh3.googleusercontent.com/a-/AOh14GjqV1-SlSvO95qE5rNmizbZiqFWNbohtONKCUZX=s64",
      "userId": "11596660560686950331"
     },
     "user_tz": 360
    },
    "id": "tCxMImfIc7JO"
   },
   "outputs": [],
   "source": [
    "# Import required packages\n",
    "import numpy as np\n",
    "import pandas as pd\n",
    "import matplotlib.pyplot as plt"
   ]
  },
  {
   "cell_type": "code",
   "execution_count": 2,
   "metadata": {
    "executionInfo": {
     "elapsed": 3336,
     "status": "ok",
     "timestamp": 1604109560817,
     "user": {
      "displayName": "The Calculated Life",
      "photoUrl": "https://lh3.googleusercontent.com/a-/AOh14GjqV1-SlSvO95qE5rNmizbZiqFWNbohtONKCUZX=s64",
      "userId": "11596660560686950331"
     },
     "user_tz": 360
    },
    "id": "NGcwKx2B1fFU"
   },
   "outputs": [],
   "source": [
    "# Save Github location paths to a variable\n",
    "failed_bank_path = 'https://github.com/The-Calculated-Life/python_analysis_for_excel/blob/main/data/failed_banks.xlsx?raw=true'\n",
    "bx_books_path = 'https://raw.githubusercontent.com/The-Calculated-Life/python_analysis_for_excel/main/data/bx_books.csv'\n",
    "\n",
    "# Read excel and CSV files\n",
    "bank_detail = pd.read_excel(failed_bank_path, sheet_name='detail')\n",
    "bx_books = pd.read_csv(bx_books_path)"
   ]
  },
  {
   "cell_type": "markdown",
   "metadata": {
    "id": "Jn1NpwLU-P5g"
   },
   "source": [
    "<br><br>\n",
    "### IF statement examples\n",
    "---\n",
    "<br>\n"
   ]
  },
  {
   "cell_type": "code",
   "execution_count": 3,
   "metadata": {
    "colab": {
     "base_uri": "https://localhost:8080/"
    },
    "executionInfo": {
     "elapsed": 1420,
     "status": "ok",
     "timestamp": 1604109645959,
     "user": {
      "displayName": "The Calculated Life",
      "photoUrl": "https://lh3.googleusercontent.com/a-/AOh14GjqV1-SlSvO95qE5rNmizbZiqFWNbohtONKCUZX=s64",
      "userId": "11596660560686950331"
     },
     "user_tz": 360
    },
    "id": "GvCxJKNk1zBk",
    "outputId": "6ce3fbd6-191d-4282-ff10-c39198e3c854"
   },
   "outputs": [
    {
     "data": {
      "text/plain": [
       "array([0, 0, 0, 0, 0, 0, 1, 0, 0, 1, 1, 0, 0, 0, 0, 0, 0, 0, 0, 0, 0, 0,\n",
       "       0, 1, 1, 0, 0, 0, 0, 1, 0, 0, 0, 0, 1, 0, 0, 0, 0, 0, 0, 0, 0, 1,\n",
       "       0, 0, 0, 1, 0, 1, 0, 0, 0, 0, 0, 0, 0, 0, 0, 1, 0, 0, 0, 0, 0, 1,\n",
       "       0, 0, 0, 0, 0, 0, 1, 1, 0, 0, 0, 0, 0, 1, 0, 0, 0, 1, 0, 0, 0, 0,\n",
       "       1, 0, 0, 0, 0, 0, 0, 0, 0, 0, 0, 1, 1, 1, 0, 0, 1, 1, 0, 0, 0, 1,\n",
       "       1, 0, 0, 1, 1, 0, 1, 1, 0, 0, 0, 0, 0, 0, 0, 0, 0, 0, 1, 0, 1, 0,\n",
       "       0, 1, 1, 0, 1, 1, 1, 1, 0, 1, 0, 1, 1, 0, 0, 0, 1, 1, 0, 1, 0, 0,\n",
       "       1, 0, 0, 1, 0, 0, 0, 1, 1, 0, 0, 1, 0, 0, 0, 0, 1, 1, 0, 1, 0, 1,\n",
       "       0, 1, 0, 1, 1, 1, 0, 0, 0, 0, 0, 0, 1, 0, 1, 0, 1, 0, 0, 1, 0, 0,\n",
       "       0, 1, 0, 0, 0, 1, 1, 0, 1, 0, 0, 1, 1, 0, 0, 0, 1, 1, 0, 0, 1, 0,\n",
       "       1, 0, 0, 1, 1, 0, 1, 0, 0, 0, 0, 0, 1, 0, 0, 0, 0, 1, 1, 0, 1, 0,\n",
       "       1, 0, 1, 0, 1, 0, 1, 1, 1, 1, 0, 0, 0, 0, 0, 0, 0, 1, 1, 1, 0, 1,\n",
       "       0, 0, 0, 0, 0, 1, 0, 0, 1, 1, 0, 0, 0, 1, 1, 1, 0, 0, 1, 1, 1, 0,\n",
       "       1, 1, 0, 0, 0, 1, 1, 0, 1, 0, 0, 0, 0, 0, 0, 1, 0, 0, 0, 0, 1, 1,\n",
       "       1, 1, 1, 1, 0, 0, 1, 0, 0, 1, 1, 1, 0, 0, 0, 0, 0, 0, 0, 1, 1, 0,\n",
       "       1, 1, 0, 1, 0, 0, 1, 1, 0, 1, 0, 1, 0, 0, 1, 1, 0, 0, 0, 0, 1, 1,\n",
       "       0, 0, 1, 1, 0, 1, 0, 1, 0, 0, 1, 1, 1, 1, 0, 0, 1, 1, 1, 0, 0, 1,\n",
       "       1, 1, 1, 1, 0, 1, 0, 0, 1, 0, 1, 0, 1, 1, 0, 0, 1, 0, 1, 0, 0, 0,\n",
       "       0, 0, 1, 0, 0, 1, 0, 1, 1, 1, 0, 0, 0, 0, 1, 0, 1, 0, 1, 1, 1, 0,\n",
       "       1, 0, 1, 0, 1, 0, 0, 1, 1, 0, 1, 0, 0, 1, 1, 0, 1, 1, 0, 1, 0, 1,\n",
       "       0, 1, 1, 0, 0, 1, 1, 1, 1, 1, 0, 0, 1, 1, 1, 0, 0, 0, 0, 0, 0, 0,\n",
       "       1, 1, 0, 1, 0, 1, 0, 0, 1, 1, 1, 0, 1, 1, 1, 1, 1, 0, 0, 0, 1, 0,\n",
       "       0, 0, 1, 1, 1, 1, 1, 0, 0, 0, 0, 0, 0, 1, 1, 0, 1, 1, 1, 1, 1, 1,\n",
       "       1, 0, 1, 0, 0, 0, 0, 0, 1, 0, 0, 0, 1, 1, 0, 0, 0, 0, 0, 1, 1, 1,\n",
       "       1, 1, 1, 1, 0, 1, 0, 0, 1, 1, 1, 1, 1, 1, 1, 0, 1, 0, 0, 0, 1, 0,\n",
       "       0, 0, 0, 0, 0, 0, 0, 0, 0, 0, 0, 1, 0, 0, 1, 1, 0, 1, 0, 1, 0, 0,\n",
       "       0, 0, 0, 0, 0, 0, 0])"
      ]
     },
     "execution_count": 3,
     "metadata": {
      "tags": []
     },
     "output_type": "execute_result"
    }
   ],
   "source": [
    "# Flag all banks which had more than $50,000 in ESTIMATED LOSS\n",
    "np.where(bank_detail['ESTIMATED LOSS'] > 50000, 1, 0)"
   ]
  },
  {
   "cell_type": "markdown",
   "metadata": {
    "id": "ny4ktUYERws0"
   },
   "source": [
    "<br><br>"
   ]
  },
  {
   "cell_type": "code",
   "execution_count": 4,
   "metadata": {
    "executionInfo": {
     "elapsed": 1327,
     "status": "ok",
     "timestamp": 1604109678514,
     "user": {
      "displayName": "The Calculated Life",
      "photoUrl": "https://lh3.googleusercontent.com/a-/AOh14GjqV1-SlSvO95qE5rNmizbZiqFWNbohtONKCUZX=s64",
      "userId": "11596660560686950331"
     },
     "user_tz": 360
    },
    "id": "Sk854dZD3DRi"
   },
   "outputs": [],
   "source": [
    "# Save those flags to a column called BIG_LOSSES\n",
    "bank_detail['BIG_LOSSES'] = np.where(bank_detail['ESTIMATED LOSS'] > 50000, 1, 0)"
   ]
  },
  {
   "cell_type": "markdown",
   "metadata": {
    "id": "M95IhnLZRyIZ"
   },
   "source": [
    "<br><br>"
   ]
  },
  {
   "cell_type": "code",
   "execution_count": 5,
   "metadata": {
    "colab": {
     "base_uri": "https://localhost:8080/",
     "height": 343
    },
    "executionInfo": {
     "elapsed": 1211,
     "status": "ok",
     "timestamp": 1604109691730,
     "user": {
      "displayName": "The Calculated Life",
      "photoUrl": "https://lh3.googleusercontent.com/a-/AOh14GjqV1-SlSvO95qE5rNmizbZiqFWNbohtONKCUZX=s64",
      "userId": "11596660560686950331"
     },
     "user_tz": 360
    },
    "id": "ALxGAdxY3zbO",
    "outputId": "50166ebe-70c3-4c55-a9fe-e7f5e532e642"
   },
   "outputs": [
    {
     "data": {
      "text/html": [
       "<div>\n",
       "<style scoped>\n",
       "    .dataframe tbody tr th:only-of-type {\n",
       "        vertical-align: middle;\n",
       "    }\n",
       "\n",
       "    .dataframe tbody tr th {\n",
       "        vertical-align: top;\n",
       "    }\n",
       "\n",
       "    .dataframe thead th {\n",
       "        text-align: right;\n",
       "    }\n",
       "</style>\n",
       "<table border=\"1\" class=\"dataframe\">\n",
       "  <thead>\n",
       "    <tr style=\"text-align: right;\">\n",
       "      <th></th>\n",
       "      <th>CERT</th>\n",
       "      <th>FIN</th>\n",
       "      <th>CHARTER</th>\n",
       "      <th>ESTIMATED LOSS</th>\n",
       "      <th>ASSETS</th>\n",
       "      <th>DEPOSITS</th>\n",
       "      <th>RESOLUTION</th>\n",
       "      <th>BIG_LOSSES</th>\n",
       "    </tr>\n",
       "  </thead>\n",
       "  <tbody>\n",
       "    <tr>\n",
       "      <th>0</th>\n",
       "      <td>14361</td>\n",
       "      <td>10536.0</td>\n",
       "      <td>COMMERCIAL</td>\n",
       "      <td>NaN</td>\n",
       "      <td>152400</td>\n",
       "      <td>139526</td>\n",
       "      <td>FAILURE</td>\n",
       "      <td>0</td>\n",
       "    </tr>\n",
       "    <tr>\n",
       "      <th>1</th>\n",
       "      <td>18265</td>\n",
       "      <td>10535.0</td>\n",
       "      <td>COMMERCIAL</td>\n",
       "      <td>NaN</td>\n",
       "      <td>100879</td>\n",
       "      <td>95159</td>\n",
       "      <td>FAILURE</td>\n",
       "      <td>0</td>\n",
       "    </tr>\n",
       "    <tr>\n",
       "      <th>2</th>\n",
       "      <td>21111</td>\n",
       "      <td>10534.0</td>\n",
       "      <td>COMMERCIAL</td>\n",
       "      <td>2491.0</td>\n",
       "      <td>120574</td>\n",
       "      <td>111234</td>\n",
       "      <td>FAILURE</td>\n",
       "      <td>0</td>\n",
       "    </tr>\n",
       "    <tr>\n",
       "      <th>3</th>\n",
       "      <td>58112</td>\n",
       "      <td>10532.0</td>\n",
       "      <td>COMMERCIAL</td>\n",
       "      <td>4547.0</td>\n",
       "      <td>29726</td>\n",
       "      <td>26473</td>\n",
       "      <td>FAILURE</td>\n",
       "      <td>0</td>\n",
       "    </tr>\n",
       "    <tr>\n",
       "      <th>4</th>\n",
       "      <td>58317</td>\n",
       "      <td>10533.0</td>\n",
       "      <td>OTHER</td>\n",
       "      <td>2188.0</td>\n",
       "      <td>27119</td>\n",
       "      <td>26151</td>\n",
       "      <td>FAILURE</td>\n",
       "      <td>0</td>\n",
       "    </tr>\n",
       "    <tr>\n",
       "      <th>5</th>\n",
       "      <td>10716</td>\n",
       "      <td>10531.0</td>\n",
       "      <td>COMMERCIAL</td>\n",
       "      <td>21577.0</td>\n",
       "      <td>36738</td>\n",
       "      <td>31254</td>\n",
       "      <td>FAILURE</td>\n",
       "      <td>0</td>\n",
       "    </tr>\n",
       "    <tr>\n",
       "      <th>6</th>\n",
       "      <td>30570</td>\n",
       "      <td>10530.0</td>\n",
       "      <td>OTHER</td>\n",
       "      <td>86826.0</td>\n",
       "      <td>166345</td>\n",
       "      <td>143964</td>\n",
       "      <td>FAILURE</td>\n",
       "      <td>1</td>\n",
       "    </tr>\n",
       "    <tr>\n",
       "      <th>7</th>\n",
       "      <td>17719</td>\n",
       "      <td>10529.0</td>\n",
       "      <td>COMMERCIAL</td>\n",
       "      <td>280.0</td>\n",
       "      <td>33012</td>\n",
       "      <td>27466</td>\n",
       "      <td>FAILURE</td>\n",
       "      <td>0</td>\n",
       "    </tr>\n",
       "    <tr>\n",
       "      <th>8</th>\n",
       "      <td>1802</td>\n",
       "      <td>10528.0</td>\n",
       "      <td>OTHER</td>\n",
       "      <td>8544.0</td>\n",
       "      <td>34370</td>\n",
       "      <td>33972</td>\n",
       "      <td>FAILURE</td>\n",
       "      <td>0</td>\n",
       "    </tr>\n",
       "    <tr>\n",
       "      <th>9</th>\n",
       "      <td>30003</td>\n",
       "      <td>10527.0</td>\n",
       "      <td>OTHER</td>\n",
       "      <td>133914.0</td>\n",
       "      <td>1031900</td>\n",
       "      <td>1002026</td>\n",
       "      <td>FAILURE</td>\n",
       "      <td>1</td>\n",
       "    </tr>\n",
       "  </tbody>\n",
       "</table>\n",
       "</div>"
      ],
      "text/plain": [
       "    CERT      FIN     CHARTER  ...  DEPOSITS  RESOLUTION  BIG_LOSSES\n",
       "0  14361  10536.0  COMMERCIAL  ...    139526     FAILURE           0\n",
       "1  18265  10535.0  COMMERCIAL  ...     95159     FAILURE           0\n",
       "2  21111  10534.0  COMMERCIAL  ...    111234     FAILURE           0\n",
       "3  58112  10532.0  COMMERCIAL  ...     26473     FAILURE           0\n",
       "4  58317  10533.0       OTHER  ...     26151     FAILURE           0\n",
       "5  10716  10531.0  COMMERCIAL  ...     31254     FAILURE           0\n",
       "6  30570  10530.0       OTHER  ...    143964     FAILURE           1\n",
       "7  17719  10529.0  COMMERCIAL  ...     27466     FAILURE           0\n",
       "8   1802  10528.0       OTHER  ...     33972     FAILURE           0\n",
       "9  30003  10527.0       OTHER  ...   1002026     FAILURE           1\n",
       "\n",
       "[10 rows x 8 columns]"
      ]
     },
     "execution_count": 5,
     "metadata": {
      "tags": []
     },
     "output_type": "execute_result"
    }
   ],
   "source": [
    "# Look at the result (top 10 rows)\n",
    "bank_detail.head(10)"
   ]
  },
  {
   "cell_type": "markdown",
   "metadata": {
    "id": "8nVxMXJH40kN"
   },
   "source": [
    "<br><br>\n",
    "**QUICK CHALLENGE #1:**\n",
    "\n",
    "**Task: Use np.where() and the `bx_books` dataframe to flag all books published in 2002. Save the result to a column named `pub_2002`**\n",
    "\n",
    "<br>\n",
    "\n",
    "*Hint: The direct comparision operator is `==` in Python*"
   ]
  },
  {
   "cell_type": "code",
   "execution_count": 10,
   "metadata": {
    "colab": {
     "base_uri": "https://localhost:8080/"
    },
    "executionInfo": {
     "elapsed": 901,
     "status": "ok",
     "timestamp": 1604110761626,
     "user": {
      "displayName": "The Calculated Life",
      "photoUrl": "https://lh3.googleusercontent.com/a-/AOh14GjqV1-SlSvO95qE5rNmizbZiqFWNbohtONKCUZX=s64",
      "userId": "11596660560686950331"
     },
     "user_tz": 360
    },
    "id": "Ab4TfqJb30hE",
    "outputId": "a05528f5-afc3-46a1-ca6c-fa5b6d3b9ff9"
   },
   "outputs": [
    {
     "data": {
      "text/plain": [
       "array([1, 0, 0, ..., 0, 0, 0])"
      ]
     },
     "execution_count": 10,
     "metadata": {
      "tags": []
     },
     "output_type": "execute_result"
    }
   ],
   "source": [
    "# Your code for quick challenge #1 here:\n",
    "np.where(bx_books['year_of_publication'] == 2002, 1, 0)"
   ]
  },
  {
   "cell_type": "code",
   "execution_count": 11,
   "metadata": {
    "executionInfo": {
     "elapsed": 740,
     "status": "ok",
     "timestamp": 1604110804536,
     "user": {
      "displayName": "The Calculated Life",
      "photoUrl": "https://lh3.googleusercontent.com/a-/AOh14GjqV1-SlSvO95qE5rNmizbZiqFWNbohtONKCUZX=s64",
      "userId": "11596660560686950331"
     },
     "user_tz": 360
    },
    "id": "ZICTh_wUc7rB"
   },
   "outputs": [],
   "source": [
    "bx_books['pub_2002'] = np.where(bx_books['year_of_publication'] == 2002, 1, 0)"
   ]
  },
  {
   "cell_type": "code",
   "execution_count": 12,
   "metadata": {
    "colab": {
     "base_uri": "https://localhost:8080/",
     "height": 195
    },
    "executionInfo": {
     "elapsed": 924,
     "status": "ok",
     "timestamp": 1604110811842,
     "user": {
      "displayName": "The Calculated Life",
      "photoUrl": "https://lh3.googleusercontent.com/a-/AOh14GjqV1-SlSvO95qE5rNmizbZiqFWNbohtONKCUZX=s64",
      "userId": "11596660560686950331"
     },
     "user_tz": 360
    },
    "id": "z_wAZ5uFdGMe",
    "outputId": "1f4c8911-af24-4935-d519-9f5d678d2c49"
   },
   "outputs": [
    {
     "data": {
      "text/html": [
       "<div>\n",
       "<style scoped>\n",
       "    .dataframe tbody tr th:only-of-type {\n",
       "        vertical-align: middle;\n",
       "    }\n",
       "\n",
       "    .dataframe tbody tr th {\n",
       "        vertical-align: top;\n",
       "    }\n",
       "\n",
       "    .dataframe thead th {\n",
       "        text-align: right;\n",
       "    }\n",
       "</style>\n",
       "<table border=\"1\" class=\"dataframe\">\n",
       "  <thead>\n",
       "    <tr style=\"text-align: right;\">\n",
       "      <th></th>\n",
       "      <th>isbn</th>\n",
       "      <th>book_title</th>\n",
       "      <th>book_author</th>\n",
       "      <th>year_of_publication</th>\n",
       "      <th>publisher</th>\n",
       "      <th>pub_2002</th>\n",
       "    </tr>\n",
       "  </thead>\n",
       "  <tbody>\n",
       "    <tr>\n",
       "      <th>0</th>\n",
       "      <td>195153448</td>\n",
       "      <td>Classical Mythology</td>\n",
       "      <td>Mark P. O. Morford</td>\n",
       "      <td>2002</td>\n",
       "      <td>Oxford University Press</td>\n",
       "      <td>1</td>\n",
       "    </tr>\n",
       "    <tr>\n",
       "      <th>1</th>\n",
       "      <td>2005018</td>\n",
       "      <td>Clara Callan</td>\n",
       "      <td>Richard Bruce Wright</td>\n",
       "      <td>2001</td>\n",
       "      <td>HarperFlamingo Canada</td>\n",
       "      <td>0</td>\n",
       "    </tr>\n",
       "    <tr>\n",
       "      <th>2</th>\n",
       "      <td>60973129</td>\n",
       "      <td>Decision in Normandy</td>\n",
       "      <td>Carlo D'Este</td>\n",
       "      <td>1991</td>\n",
       "      <td>HarperPerennial</td>\n",
       "      <td>0</td>\n",
       "    </tr>\n",
       "    <tr>\n",
       "      <th>3</th>\n",
       "      <td>374157065</td>\n",
       "      <td>Flu: The Story of the Great Influenza Pandemic...</td>\n",
       "      <td>Gina Bari Kolata</td>\n",
       "      <td>1999</td>\n",
       "      <td>Farrar Straus Giroux</td>\n",
       "      <td>0</td>\n",
       "    </tr>\n",
       "    <tr>\n",
       "      <th>4</th>\n",
       "      <td>393045218</td>\n",
       "      <td>The Mummies of Urumchi</td>\n",
       "      <td>E. J. W. Barber</td>\n",
       "      <td>1999</td>\n",
       "      <td>W. W. Norton &amp;amp; Company</td>\n",
       "      <td>0</td>\n",
       "    </tr>\n",
       "  </tbody>\n",
       "</table>\n",
       "</div>"
      ],
      "text/plain": [
       "        isbn  ... pub_2002\n",
       "0  195153448  ...        1\n",
       "1    2005018  ...        0\n",
       "2   60973129  ...        0\n",
       "3  374157065  ...        0\n",
       "4  393045218  ...        0\n",
       "\n",
       "[5 rows x 6 columns]"
      ]
     },
     "execution_count": 12,
     "metadata": {
      "tags": []
     },
     "output_type": "execute_result"
    }
   ],
   "source": [
    "bx_books.head()"
   ]
  }
 ],
 "metadata": {
  "colab": {
   "authorship_tag": "ABX9TyOScp+vG8qeYajwV3277h4F",
   "collapsed_sections": [],
   "name": "2-Begin: Excel IF() statements.ipynb",
   "provenance": []
  },
  "kernelspec": {
   "display_name": "Python 3",
   "language": "python",
   "name": "python3"
  },
  "language_info": {
   "codemirror_mode": {
    "name": "ipython",
    "version": 3
   },
   "file_extension": ".py",
   "mimetype": "text/x-python",
   "name": "python",
   "nbconvert_exporter": "python",
   "pygments_lexer": "ipython3",
   "version": "3.8.5"
  }
 },
 "nbformat": 4,
 "nbformat_minor": 1
}
