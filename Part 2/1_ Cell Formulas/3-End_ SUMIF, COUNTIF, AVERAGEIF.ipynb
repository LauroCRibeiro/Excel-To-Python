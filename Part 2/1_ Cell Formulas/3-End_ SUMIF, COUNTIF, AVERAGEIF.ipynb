{
 "cells": [
  {
   "cell_type": "markdown",
   "metadata": {
    "id": "Beh6bUquc8zo"
   },
   "source": [
    "# SUMIF(), COUNTIF(), and AVERAGEIF()\n",
    "---"
   ]
  },
  {
   "cell_type": "markdown",
   "metadata": {
    "id": "RkUojy3l8Ghk"
   },
   "source": [
    "## **In Excel:**\n",
    "\n",
    "    =SUMIF(range, criteria, [sum_range])\n",
    "    =COUNTIF(range, criteria)\n",
    "    =AVERAGEIF(range, criteria, [average_range])"
   ]
  },
  {
   "cell_type": "markdown",
   "metadata": {
    "id": "b8WuYAJK_tSX"
   },
   "source": [
    "## **In Python:**\n",
    "\n",
    "Using np.where()\n",
    "\n",
    "    np.where(df['column'] == criteria, df['column'], 0).sum()     # Works best on sum, not great for count/mean \n",
    "<br>\n",
    "\n",
    "**Pandas approach**\n",
    "\n",
    "    df[df['column'] == criteria]['column_to_sum'].sum()\n",
    "    df[df['column'] == criteria]['column_to_count'].count()\n",
    "    df[df['column'] == criteria]['column_to_average'].mean()\n",
    "\n",
    "<br>\n",
    "\n",
    "*Tip: You can also save the condition as a variable and use that in the square brackets:*\n",
    "\n",
    "    condition = df['column'] == criteria\n",
    "\n",
    "    df[condition][average_range].mean()\n",
    "\n",
    "<br><br>"
   ]
  },
  {
   "cell_type": "markdown",
   "metadata": {
    "id": "fDRSyd0k71n0"
   },
   "source": [
    "### Load required packages and data\n",
    "---"
   ]
  },
  {
   "cell_type": "code",
   "execution_count": 1,
   "metadata": {
    "executionInfo": {
     "elapsed": 632,
     "status": "ok",
     "timestamp": 1604112756204,
     "user": {
      "displayName": "The Calculated Life",
      "photoUrl": "https://lh3.googleusercontent.com/a-/AOh14GjqV1-SlSvO95qE5rNmizbZiqFWNbohtONKCUZX=s64",
      "userId": "11596660560686950331"
     },
     "user_tz": 360
    },
    "id": "tCxMImfIc7JO"
   },
   "outputs": [],
   "source": [
    "# Import required packages\n",
    "import numpy as np\n",
    "import pandas as pd\n",
    "import matplotlib.pyplot as plt"
   ]
  },
  {
   "cell_type": "code",
   "execution_count": 2,
   "metadata": {
    "executionInfo": {
     "elapsed": 3733,
     "status": "ok",
     "timestamp": 1604112761503,
     "user": {
      "displayName": "The Calculated Life",
      "photoUrl": "https://lh3.googleusercontent.com/a-/AOh14GjqV1-SlSvO95qE5rNmizbZiqFWNbohtONKCUZX=s64",
      "userId": "11596660560686950331"
     },
     "user_tz": 360
    },
    "id": "nQhEeq8y7zGw"
   },
   "outputs": [],
   "source": [
    "# Save Github location paths to a variable\n",
    "failed_bank_path = 'https://github.com/The-Calculated-Life/python_analysis_for_excel/blob/main/data/failed_banks.xlsx?raw=true'\n",
    "bx_books_path = 'https://raw.githubusercontent.com/The-Calculated-Life/python_analysis_for_excel/main/data/bx_books.csv'\n",
    "\n",
    "# Read excel and CSV files\n",
    "bank_detail = pd.read_excel(failed_bank_path, sheet_name='detail')\n",
    "bx_books = pd.read_csv(bx_books_path)"
   ]
  },
  {
   "cell_type": "markdown",
   "metadata": {
    "id": "f7IBeGfo77Zi"
   },
   "source": [
    "<br><br>\n",
    "### SUMIF(), COUNTIF(), AVERAGEIF() Examples\n",
    "---"
   ]
  },
  {
   "cell_type": "code",
   "execution_count": 3,
   "metadata": {
    "colab": {
     "base_uri": "https://localhost:8080/"
    },
    "executionInfo": {
     "elapsed": 800,
     "status": "ok",
     "timestamp": 1604112822735,
     "user": {
      "displayName": "The Calculated Life",
      "photoUrl": "https://lh3.googleusercontent.com/a-/AOh14GjqV1-SlSvO95qE5rNmizbZiqFWNbohtONKCUZX=s64",
      "userId": "11596660560686950331"
     },
     "user_tz": 360
    },
    "id": "LA1rI2cC8FiE",
    "outputId": "42f6f038-6c9e-4710-ef39-bde2189f1d3c"
   },
   "outputs": [
    {
     "data": {
      "text/plain": [
       "66580025.0"
      ]
     },
     "execution_count": 3,
     "metadata": {
      "tags": []
     },
     "output_type": "execute_result"
    }
   ],
   "source": [
    "# Calculate total ESTIMATED LOSS for banks with more than $50,000 in ESTIMATED LOSS (using np.where)\n",
    "np.where(bank_detail['ESTIMATED LOSS'] > 50000, bank_detail['ESTIMATED LOSS'], 0).sum()"
   ]
  },
  {
   "cell_type": "markdown",
   "metadata": {
    "id": "NJlJ1xSvezXe"
   },
   "source": [
    "<br>"
   ]
  },
  {
   "cell_type": "code",
   "execution_count": 5,
   "metadata": {
    "colab": {
     "base_uri": "https://localhost:8080/"
    },
    "executionInfo": {
     "elapsed": 408,
     "status": "ok",
     "timestamp": 1604112899399,
     "user": {
      "displayName": "The Calculated Life",
      "photoUrl": "https://lh3.googleusercontent.com/a-/AOh14GjqV1-SlSvO95qE5rNmizbZiqFWNbohtONKCUZX=s64",
      "userId": "11596660560686950331"
     },
     "user_tz": 360
    },
    "id": "LzjxTUw3-WMb",
    "outputId": "614706ea-c78e-4cc4-95a2-b1e8c40b2f36"
   },
   "outputs": [
    {
     "data": {
      "text/plain": [
       "66580025.0"
      ]
     },
     "execution_count": 5,
     "metadata": {
      "tags": []
     },
     "output_type": "execute_result"
    }
   ],
   "source": [
    "# Calculate total ESTIMATED LOSS for banks with more than $50,000 in ESTIMATED LOSS (Pandas)\n",
    "bank_detail[bank_detail['ESTIMATED LOSS'] > 50000]['ESTIMATED LOSS'].sum()"
   ]
  },
  {
   "cell_type": "markdown",
   "metadata": {
    "id": "S7xdx1o2e1Qx"
   },
   "source": [
    "<br>"
   ]
  },
  {
   "cell_type": "code",
   "execution_count": 6,
   "metadata": {
    "executionInfo": {
     "elapsed": 587,
     "status": "ok",
     "timestamp": 1604112930115,
     "user": {
      "displayName": "The Calculated Life",
      "photoUrl": "https://lh3.googleusercontent.com/a-/AOh14GjqV1-SlSvO95qE5rNmizbZiqFWNbohtONKCUZX=s64",
      "userId": "11596660560686950331"
     },
     "user_tz": 360
    },
    "id": "3zK9PXNTdsFU"
   },
   "outputs": [],
   "source": [
    "# Save the condition as a variable\n",
    "big_losses = bank_detail['ESTIMATED LOSS'] > 50000"
   ]
  },
  {
   "cell_type": "markdown",
   "metadata": {
    "id": "FESMWPkTe14r"
   },
   "source": [
    "<br>"
   ]
  },
  {
   "cell_type": "code",
   "execution_count": 7,
   "metadata": {
    "colab": {
     "base_uri": "https://localhost:8080/"
    },
    "executionInfo": {
     "elapsed": 780,
     "status": "ok",
     "timestamp": 1604112974730,
     "user": {
      "displayName": "The Calculated Life",
      "photoUrl": "https://lh3.googleusercontent.com/a-/AOh14GjqV1-SlSvO95qE5rNmizbZiqFWNbohtONKCUZX=s64",
      "userId": "11596660560686950331"
     },
     "user_tz": 360
    },
    "id": "_KYQoHgs-wjZ",
    "outputId": "bf772383-383d-4563-dbb9-42e7a04e3966"
   },
   "outputs": [
    {
     "data": {
      "text/plain": [
       "311588628"
      ]
     },
     "execution_count": 7,
     "metadata": {
      "tags": []
     },
     "output_type": "execute_result"
    }
   ],
   "source": [
    "# Calculate the total ASSETS for banks with an ESTIMATED LOSS over $50,000\n",
    "bank_detail[big_losses]['ASSETS'].sum()"
   ]
  },
  {
   "cell_type": "markdown",
   "metadata": {
    "id": "SW_XsDkZe2fh"
   },
   "source": [
    "<br>"
   ]
  },
  {
   "cell_type": "code",
   "execution_count": 8,
   "metadata": {
    "colab": {
     "base_uri": "https://localhost:8080/"
    },
    "executionInfo": {
     "elapsed": 706,
     "status": "ok",
     "timestamp": 1604113019327,
     "user": {
      "displayName": "The Calculated Life",
      "photoUrl": "https://lh3.googleusercontent.com/a-/AOh14GjqV1-SlSvO95qE5rNmizbZiqFWNbohtONKCUZX=s64",
      "userId": "11596660560686950331"
     },
     "user_tz": 360
    },
    "id": "krL1jEO0ARxF",
    "outputId": "33fc558a-7be5-4477-c775-18381b18c29e"
   },
   "outputs": [
    {
     "data": {
      "text/plain": [
       "233"
      ]
     },
     "execution_count": 8,
     "metadata": {
      "tags": []
     },
     "output_type": "execute_result"
    }
   ],
   "source": [
    "# How many banks had an estimated loss greater than $50,000?\n",
    "bank_detail[big_losses]['CERT'].count()"
   ]
  },
  {
   "cell_type": "markdown",
   "metadata": {
    "id": "EjsBB00Qe3E_"
   },
   "source": [
    "<br>"
   ]
  },
  {
   "cell_type": "code",
   "execution_count": 9,
   "metadata": {
    "colab": {
     "base_uri": "https://localhost:8080/"
    },
    "executionInfo": {
     "elapsed": 708,
     "status": "ok",
     "timestamp": 1604113063132,
     "user": {
      "displayName": "The Calculated Life",
      "photoUrl": "https://lh3.googleusercontent.com/a-/AOh14GjqV1-SlSvO95qE5rNmizbZiqFWNbohtONKCUZX=s64",
      "userId": "11596660560686950331"
     },
     "user_tz": 360
    },
    "id": "X_UBrVGpA_OP",
    "outputId": "167d8740-6f7f-4c39-8a10-cdf113e71d9b"
   },
   "outputs": [
    {
     "data": {
      "text/plain": [
       "285751.18025751074"
      ]
     },
     "execution_count": 9,
     "metadata": {
      "tags": []
     },
     "output_type": "execute_result"
    }
   ],
   "source": [
    "# Calculate the average losses for banks with more than $50,000 in estimated losses (using brackets)\n",
    "bank_detail[big_losses]['ESTIMATED LOSS'].mean()"
   ]
  },
  {
   "cell_type": "markdown",
   "metadata": {
    "id": "zv0eFSm1DAcT"
   },
   "source": [
    "<br><br>\n",
    "**QUICK CHALLENGE #1:**\n",
    "\n",
    "**Task: Write code which counts the number of books published in 2002 using the `bx_books` dataframe**\n"
   ]
  },
  {
   "cell_type": "code",
   "execution_count": 10,
   "metadata": {
    "colab": {
     "base_uri": "https://localhost:8080/",
     "height": 195
    },
    "executionInfo": {
     "elapsed": 1506,
     "status": "ok",
     "timestamp": 1604113109498,
     "user": {
      "displayName": "The Calculated Life",
      "photoUrl": "https://lh3.googleusercontent.com/a-/AOh14GjqV1-SlSvO95qE5rNmizbZiqFWNbohtONKCUZX=s64",
      "userId": "11596660560686950331"
     },
     "user_tz": 360
    },
    "id": "bZ2HR-SxDX1b",
    "outputId": "da3f3cee-2baf-4628-cebb-d49400780698"
   },
   "outputs": [
    {
     "data": {
      "text/html": [
       "<div>\n",
       "<style scoped>\n",
       "    .dataframe tbody tr th:only-of-type {\n",
       "        vertical-align: middle;\n",
       "    }\n",
       "\n",
       "    .dataframe tbody tr th {\n",
       "        vertical-align: top;\n",
       "    }\n",
       "\n",
       "    .dataframe thead th {\n",
       "        text-align: right;\n",
       "    }\n",
       "</style>\n",
       "<table border=\"1\" class=\"dataframe\">\n",
       "  <thead>\n",
       "    <tr style=\"text-align: right;\">\n",
       "      <th></th>\n",
       "      <th>isbn</th>\n",
       "      <th>book_title</th>\n",
       "      <th>book_author</th>\n",
       "      <th>year_of_publication</th>\n",
       "      <th>publisher</th>\n",
       "    </tr>\n",
       "  </thead>\n",
       "  <tbody>\n",
       "    <tr>\n",
       "      <th>0</th>\n",
       "      <td>195153448</td>\n",
       "      <td>Classical Mythology</td>\n",
       "      <td>Mark P. O. Morford</td>\n",
       "      <td>2002</td>\n",
       "      <td>Oxford University Press</td>\n",
       "    </tr>\n",
       "    <tr>\n",
       "      <th>1</th>\n",
       "      <td>2005018</td>\n",
       "      <td>Clara Callan</td>\n",
       "      <td>Richard Bruce Wright</td>\n",
       "      <td>2001</td>\n",
       "      <td>HarperFlamingo Canada</td>\n",
       "    </tr>\n",
       "    <tr>\n",
       "      <th>2</th>\n",
       "      <td>60973129</td>\n",
       "      <td>Decision in Normandy</td>\n",
       "      <td>Carlo D'Este</td>\n",
       "      <td>1991</td>\n",
       "      <td>HarperPerennial</td>\n",
       "    </tr>\n",
       "    <tr>\n",
       "      <th>3</th>\n",
       "      <td>374157065</td>\n",
       "      <td>Flu: The Story of the Great Influenza Pandemic...</td>\n",
       "      <td>Gina Bari Kolata</td>\n",
       "      <td>1999</td>\n",
       "      <td>Farrar Straus Giroux</td>\n",
       "    </tr>\n",
       "    <tr>\n",
       "      <th>4</th>\n",
       "      <td>393045218</td>\n",
       "      <td>The Mummies of Urumchi</td>\n",
       "      <td>E. J. W. Barber</td>\n",
       "      <td>1999</td>\n",
       "      <td>W. W. Norton &amp;amp; Company</td>\n",
       "    </tr>\n",
       "  </tbody>\n",
       "</table>\n",
       "</div>"
      ],
      "text/plain": [
       "        isbn  ...                   publisher\n",
       "0  195153448  ...     Oxford University Press\n",
       "1    2005018  ...       HarperFlamingo Canada\n",
       "2   60973129  ...             HarperPerennial\n",
       "3  374157065  ...        Farrar Straus Giroux\n",
       "4  393045218  ...  W. W. Norton &amp; Company\n",
       "\n",
       "[5 rows x 5 columns]"
      ]
     },
     "execution_count": 10,
     "metadata": {
      "tags": []
     },
     "output_type": "execute_result"
    }
   ],
   "source": [
    "# Your code for quick challenge #1 here:\n",
    "bx_books.head()"
   ]
  },
  {
   "cell_type": "code",
   "execution_count": 12,
   "metadata": {
    "colab": {
     "base_uri": "https://localhost:8080/"
    },
    "executionInfo": {
     "elapsed": 934,
     "status": "ok",
     "timestamp": 1604113192920,
     "user": {
      "displayName": "The Calculated Life",
      "photoUrl": "https://lh3.googleusercontent.com/a-/AOh14GjqV1-SlSvO95qE5rNmizbZiqFWNbohtONKCUZX=s64",
      "userId": "11596660560686950331"
     },
     "user_tz": 360
    },
    "id": "gG0Wq1INl4uk",
    "outputId": "1e74773d-168d-4b4d-ffe0-4e69b53ba4cf"
   },
   "outputs": [
    {
     "data": {
      "text/plain": [
       "17628"
      ]
     },
     "execution_count": 12,
     "metadata": {
      "tags": []
     },
     "output_type": "execute_result"
    }
   ],
   "source": [
    "bx_books[bx_books['year_of_publication'] == 2002]['isbn'].count()"
   ]
  }
 ],
 "metadata": {
  "colab": {
   "authorship_tag": "ABX9TyPjX91UUZ13DOb91qHxdlvt",
   "collapsed_sections": [],
   "name": "3-Begin: SUMIF, COUNTIF, AVERAGEIF.ipynb",
   "provenance": []
  },
  "kernelspec": {
   "display_name": "Python 3",
   "language": "python",
   "name": "python3"
  },
  "language_info": {
   "codemirror_mode": {
    "name": "ipython",
    "version": 3
   },
   "file_extension": ".py",
   "mimetype": "text/x-python",
   "name": "python",
   "nbconvert_exporter": "python",
   "pygments_lexer": "ipython3",
   "version": "3.8.5"
  }
 },
 "nbformat": 4,
 "nbformat_minor": 1
}
